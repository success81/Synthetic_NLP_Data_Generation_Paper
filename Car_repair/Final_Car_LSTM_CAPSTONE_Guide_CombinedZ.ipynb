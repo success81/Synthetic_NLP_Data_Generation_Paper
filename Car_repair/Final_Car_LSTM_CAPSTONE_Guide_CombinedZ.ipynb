{
  "nbformat": 4,
  "nbformat_minor": 0,
  "metadata": {
    "colab": {
      "name": "Final Car_LSTM_CAPSTONE_Guide CombinedZ.ipynb",
      "provenance": []
    },
    "kernelspec": {
      "name": "python3",
      "display_name": "Python 3"
    }
  },
  "cells": [
    {
      "cell_type": "code",
      "metadata": {
        "id": "F580cL-XDao-"
      },
      "source": [
        "#Reference https://www.kaggle.com/kredy10/simple-lstm-for-text-classification"
      ],
      "execution_count": null,
      "outputs": []
    },
    {
      "cell_type": "markdown",
      "metadata": {
        "id": "uUK4UwSPAfrF"
      },
      "source": [
        "FIne tune model\n",
        "Transfer learning for positive review prediction. Pre-trained model. Transfer learning NLP. "
      ]
    },
    {
      "cell_type": "code",
      "metadata": {
        "colab": {
          "base_uri": "https://localhost:8080/"
        },
        "id": "uNwWY2tlot7H",
        "outputId": "3fa12584-81df-4e8c-cd2d-d9ef977e7612"
      },
      "source": [
        "#my imports\n",
        "import numpy as np\n",
        "import unicodedata\n",
        "import nltk\n",
        "from nltk.tokenize import word_tokenize\n",
        "from nltk.corpus import stopwords\n",
        "from nltk.tokenize import sent_tokenize\n",
        "import string\n",
        "from nltk import pos_tag\n",
        "import pandas as pd\n",
        "from nltk import pos_tag\n",
        "from sklearn.feature_extraction.text import TfidfVectorizer\n",
        "pd.set_option('display.max_colwidth', -1)\n",
        "from sklearn.feature_selection import chi2\n",
        "from sklearn.model_selection import train_test_split\n",
        "from sklearn.feature_extraction.text import CountVectorizer\n",
        "from sklearn.feature_extraction.text import TfidfTransformer\n",
        "from sklearn.naive_bayes import MultinomialNB\n",
        "from sklearn.metrics import accuracy_score, confusion_matrix\n",
        "from sklearn.ensemble import GradientBoostingClassifier\n",
        "from sklearn.ensemble import RandomForestClassifier\n",
        "from sklearn.datasets import make_classification\n",
        "from sklearn.ensemble import ExtraTreesClassifier\n",
        "from sklearn.metrics import f1_score\n",
        "from sklearn.metrics import recall_score\n",
        "import matplotlib.pyplot as plt\n",
        "from sklearn.metrics import precision_score\n",
        "pd.set_option(\"display.max_rows\", None, \"display.max_columns\", None)\n",
        "nltk.download('punkt')\n",
        "nltk.download('stopwords')\n",
        "nltk.download('averaged_perceptron_tagger')\n",
        "import random\n",
        "import pandas as pd\n",
        "import numpy as np\n",
        "import matplotlib.pyplot as plt\n",
        "import seaborn as sns\n",
        "from sklearn.model_selection import train_test_split\n",
        "from sklearn.preprocessing import LabelEncoder\n",
        "from keras.models import Model\n",
        "from keras.layers import LSTM, Activation, Dense, Dropout, Input, Embedding\n",
        "from keras.optimizers import RMSprop\n",
        "from keras.preprocessing.text import Tokenizer\n",
        "from keras.preprocessing import sequence\n",
        "from keras.utils import to_categorical\n",
        "from keras.callbacks import EarlyStopping\n",
        "%matplotlib inline\n",
        "import csv\n",
        "import tensorflow as tf\n",
        "import numpy as np\n",
        "from tensorflow.keras.preprocessing.text import Tokenizer\n",
        "from tensorflow.keras.preprocessing.sequence import pad_sequences\n",
        "from tensorflow.keras.models import Sequential\n",
        "from tensorflow.keras.layers import Dense, Flatten, LSTM, Dropout, Activation, Embedding, Bidirectional\n",
        "nltk.download('stopwords')\n",
        "from nltk.corpus import stopwords\n",
        "STOPWORDS = set(stopwords.words('english'))"
      ],
      "execution_count": null,
      "outputs": [
        {
          "output_type": "stream",
          "text": [
            "[nltk_data] Downloading package punkt to /root/nltk_data...\n",
            "[nltk_data]   Package punkt is already up-to-date!\n",
            "[nltk_data] Downloading package stopwords to /root/nltk_data...\n",
            "[nltk_data]   Package stopwords is already up-to-date!\n",
            "[nltk_data] Downloading package averaged_perceptron_tagger to\n",
            "[nltk_data]     /root/nltk_data...\n",
            "[nltk_data]   Package averaged_perceptron_tagger is already up-to-\n",
            "[nltk_data]       date!\n",
            "[nltk_data] Downloading package stopwords to /root/nltk_data...\n",
            "[nltk_data]   Package stopwords is already up-to-date!\n"
          ],
          "name": "stdout"
        },
        {
          "output_type": "stream",
          "text": [
            "/usr/local/lib/python3.6/dist-packages/ipykernel_launcher.py:13: FutureWarning: Passing a negative integer is deprecated in version 1.0 and will not be supported in future version. Instead, use None to not limit the column width.\n",
            "  del sys.path[0]\n"
          ],
          "name": "stderr"
        }
      ]
    },
    {
      "cell_type": "code",
      "metadata": {
        "id": "MU3klb9J99qy"
      },
      "source": [
        "#Github Links \n",
        "#Test Data\n",
        "negative_car_test = pd.read_csv('https://raw.githubusercontent.com/success81/Synthetic_NLP_Data_Generation_Paper/main/Car_repair/negative_car_test.csv')\n",
        "positive_car_test = pd.read_csv('https://raw.githubusercontent.com/success81/Synthetic_NLP_Data_Generation_Paper/main/Car_repair/positive_car_test.csv')\n",
        "total_car_test = pd.read_csv('https://raw.githubusercontent.com/success81/Synthetic_NLP_Data_Generation_Paper/main/Car_repair/total_car_test-2.csv')\n",
        "#Minimum Data\n",
        "negative_car_minimum = pd.read_csv('https://raw.githubusercontent.com/success81/Synthetic_NLP_Data_Generation_Paper/main/Car_repair/negative_car_minimum.csv')\n",
        "positive_car_minimum = pd.read_csv('https://raw.githubusercontent.com/success81/Synthetic_NLP_Data_Generation_Paper/main/Car_repair/positive_car_minimum.csv')\n",
        "total_car_minimum = pd.read_csv('https://raw.githubusercontent.com/success81/Synthetic_NLP_Data_Generation_Paper/main/Car_repair/total_car_minimum.csv')\n",
        "#Remainder Data\n",
        "negative_car_remainder = pd.read_csv('https://raw.githubusercontent.com/success81/Synthetic_NLP_Data_Generation_Paper/main/Car_repair/negative_car_remainder.csv')\n",
        "positive_car_remainder = pd.read_csv('https://raw.githubusercontent.com/success81/Synthetic_NLP_Data_Generation_Paper/main/Car_repair/positive_car_remainder.csv')\n",
        "total_car_remainder = pd.read_csv('https://raw.githubusercontent.com/success81/Synthetic_NLP_Data_Generation_Paper/main/Car_repair/total_car_remainder.csv')\n",
        "#Total Training Data\n",
        "master_negative_car_training = pd.read_csv('https://raw.githubusercontent.com/success81/Synthetic_NLP_Data_Generation_Paper/main/Car_repair/master_negative_car_training_final.csv')\n",
        "master_positive_car_training = pd.read_csv('https://raw.githubusercontent.com/success81/Synthetic_NLP_Data_Generation_Paper/main/Car_repair/master_positive_car_training_final.csv')\n",
        "total_master_training_final = pd.read_csv('https://raw.githubusercontent.com/success81/Synthetic_NLP_Data_Generation_Paper/main/Car_repair/total_master_training_final.csv')\n",
        "\n"
      ],
      "execution_count": null,
      "outputs": []
    },
    {
      "cell_type": "code",
      "metadata": {
        "id": "I5mbRDn79-rc"
      },
      "source": [
        "#Assigning Negative/Positive to copy\n",
        "negative_car_text = master_negative_car_training.copy()\n",
        "positive_car_text = master_positive_car_training.copy()"
      ],
      "execution_count": null,
      "outputs": []
    },
    {
      "cell_type": "code",
      "metadata": {
        "id": "3CN1TZff-gRU"
      },
      "source": [
        "neg_car_synthetic_df = pd.read_csv(\"https://raw.githubusercontent.com/success81/Synthetic_NLP_Data_Generation_Paper/main/Car_repair/capstone_synthetic_neg_car.csv\")"
      ],
      "execution_count": null,
      "outputs": []
    },
    {
      "cell_type": "code",
      "metadata": {
        "id": "RQPzOjOL-h5o"
      },
      "source": [
        "pos_car_synthetic_df = pd.read_csv('https://raw.githubusercontent.com/success81/Synthetic_NLP_Data_Generation_Paper/main/Car_repair/capstone_synthetic_pos_car.csv')"
      ],
      "execution_count": null,
      "outputs": []
    },
    {
      "cell_type": "code",
      "metadata": {
        "id": "LwDryhAo9-g_"
      },
      "source": [
        "#Shuffling dataframe\n",
        "neg_car_synthetic_df = neg_car_synthetic_df.sample(frac=1).reset_index(drop=True)\n",
        "pos_car_synthetic_df = pos_car_synthetic_df.sample(frac=1).reset_index(drop=True)"
      ],
      "execution_count": null,
      "outputs": []
    },
    {
      "cell_type": "code",
      "metadata": {
        "id": "RWyNKH2C_qSn"
      },
      "source": [
        "#Important Dataframes\n",
        "\n",
        "#Test Data Set\n",
        "total_car_test = pd.read_csv('https://raw.githubusercontent.com/success81/Synthetic_NLP_Data_Generation_Paper/main/Car_repair/total_car_test-2.csv')\n",
        "total_car_test.drop(\"Unnamed: 0\", axis=1,inplace=True)\n",
        "\n",
        "\n",
        "#Genuine Data Set Full\n",
        "total_master_training_final = pd.read_csv('https://raw.githubusercontent.com/success81/Synthetic_NLP_Data_Generation_Paper/main/Car_repair/total_master_training_final.csv')\n",
        "\n",
        "#Minimum Data Set\n",
        "total_car_minimum = pd.read_csv('https://raw.githubusercontent.com/success81/Synthetic_NLP_Data_Generation_Paper/main/Car_repair/total_car_minimum.csv')\n",
        "\n",
        "#Total Genuine and Synthetic Shuffled Dataset Capstone\n",
        "capstone_final_synth_and_gen_total = pd.concat([neg_car_synthetic_df, pos_car_synthetic_df, total_master_training_final], axis=0).reset_index(drop=True)\n",
        "capstone_final_synth_and_gen_total.drop(\"Unnamed: 0\", axis=1,inplace=True)\n",
        "\n",
        "new_x_train, new_x_test, new_y_train, new_y_test = train_test_split(total_car_test['text'], total_car_test['rating'], random_state = 0, test_size = .99)\n"
      ],
      "execution_count": null,
      "outputs": []
    },
    {
      "cell_type": "code",
      "metadata": {
        "id": "Cd92aonjFttu"
      },
      "source": [
        ""
      ],
      "execution_count": null,
      "outputs": []
    },
    {
      "cell_type": "code",
      "metadata": {
        "colab": {
          "base_uri": "https://localhost:8080/",
          "height": 131
        },
        "id": "Qgovqz3uDF2J",
        "outputId": "ccf6c647-78df-4206-9499-0302e9cad4bd"
      },
      "source": [
        "capstone_final_synth_and_gen_total.head(1)"
      ],
      "execution_count": null,
      "outputs": [
        {
          "output_type": "execute_result",
          "data": {
            "text/html": [
              "<div>\n",
              "<style scoped>\n",
              "    .dataframe tbody tr th:only-of-type {\n",
              "        vertical-align: middle;\n",
              "    }\n",
              "\n",
              "    .dataframe tbody tr th {\n",
              "        vertical-align: top;\n",
              "    }\n",
              "\n",
              "    .dataframe thead th {\n",
              "        text-align: right;\n",
              "    }\n",
              "</style>\n",
              "<table border=\"1\" class=\"dataframe\">\n",
              "  <thead>\n",
              "    <tr style=\"text-align: right;\">\n",
              "      <th></th>\n",
              "      <th>rating</th>\n",
              "      <th>text</th>\n",
              "    </tr>\n",
              "  </thead>\n",
              "  <tbody>\n",
              "    <tr>\n",
              "      <th>0</th>\n",
              "      <td>negative</td>\n",
              "      <td>I took my transmission to a shop that specialize in this area called zenith auto, and they told me that the detail shop did not perform the correct repairs that they said was needed (i took this to mean that they didn't perform the part, they just overlooked it).  zenith charged me $90 for them to run fluid through my transmission (which usually doesn't change fluid on high mileage transmissions) then checked everything else, and said that their charge was for something that was broken as the transmission was being worked on.  zenith charged $150 to run a battery through my transmission (which usually doesn't happen) and checked everything else, and said that their charge was for something that was just a nasty burn (which basically means there was</td>\n",
              "    </tr>\n",
              "  </tbody>\n",
              "</table>\n",
              "</div>"
            ],
            "text/plain": [
              "     rating  \\\n",
              "0  negative   \n",
              "\n",
              "                                                                                                                                                                                                                                                                                                                                                                                                                                                                                                                                                                                                                                                                                                                                                                                       text  \n",
              "0   I took my transmission to a shop that specialize in this area called zenith auto, and they told me that the detail shop did not perform the correct repairs that they said was needed (i took this to mean that they didn't perform the part, they just overlooked it).  zenith charged me $90 for them to run fluid through my transmission (which usually doesn't change fluid on high mileage transmissions) then checked everything else, and said that their charge was for something that was broken as the transmission was being worked on.  zenith charged $150 to run a battery through my transmission (which usually doesn't happen) and checked everything else, and said that their charge was for something that was just a nasty burn (which basically means there was   "
            ]
          },
          "metadata": {
            "tags": []
          },
          "execution_count": 55
        }
      ]
    },
    {
      "cell_type": "code",
      "metadata": {
        "colab": {
          "base_uri": "https://localhost:8080/",
          "height": 131
        },
        "id": "FUHnX3Qj-DUL",
        "outputId": "62d1b1ab-e5d0-4f87-98dd-cb213897e038"
      },
      "source": [
        "lstm.head(1)"
      ],
      "execution_count": null,
      "outputs": [
        {
          "output_type": "execute_result",
          "data": {
            "text/html": [
              "<div>\n",
              "<style scoped>\n",
              "    .dataframe tbody tr th:only-of-type {\n",
              "        vertical-align: middle;\n",
              "    }\n",
              "\n",
              "    .dataframe tbody tr th {\n",
              "        vertical-align: top;\n",
              "    }\n",
              "\n",
              "    .dataframe thead th {\n",
              "        text-align: right;\n",
              "    }\n",
              "</style>\n",
              "<table border=\"1\" class=\"dataframe\">\n",
              "  <thead>\n",
              "    <tr style=\"text-align: right;\">\n",
              "      <th></th>\n",
              "      <th>rating</th>\n",
              "      <th>text</th>\n",
              "    </tr>\n",
              "  </thead>\n",
              "  <tbody>\n",
              "    <tr>\n",
              "      <th>0</th>\n",
              "      <td>negative</td>\n",
              "      <td>Just about every good mechanic/ mechanic-shy mechanic will tell you to take your vehicle to the guy closest to you, not the location specified on your car. i chose not to cooperate with the fakes and instead took my vehicle to a reliable shop with a history of working on hot rods. what do you think happened? i should have taken my vehicle to a dealership to properly investigate this matter.\" 208,208, ,\"i took my car in for an oil change, and as soon as i drove out of the parking space at the entrance to the lot, the check engine light flashed on.  my husband and i stood on the side of the road waiting for the light to come on.  as soon as the light came on, we</td>\n",
              "    </tr>\n",
              "  </tbody>\n",
              "</table>\n",
              "</div>"
            ],
            "text/plain": [
              "     rating  \\\n",
              "0  negative   \n",
              "\n",
              "                                                                                                                                                                                                                                                                                                                                                                                                                                                                                                                                                                                                                                                                                             text  \n",
              "0   Just about every good mechanic/ mechanic-shy mechanic will tell you to take your vehicle to the guy closest to you, not the location specified on your car. i chose not to cooperate with the fakes and instead took my vehicle to a reliable shop with a history of working on hot rods. what do you think happened? i should have taken my vehicle to a dealership to properly investigate this matter.\" 208,208, ,\"i took my car in for an oil change, and as soon as i drove out of the parking space at the entrance to the lot, the check engine light flashed on.  my husband and i stood on the side of the road waiting for the light to come on.  as soon as the light came on, we   "
            ]
          },
          "metadata": {
            "tags": []
          },
          "execution_count": 56
        }
      ]
    },
    {
      "cell_type": "code",
      "metadata": {
        "id": "kJvE5auksLUN"
      },
      "source": [
        "#Making LSTM Dataframe\n",
        "lstm = capstone_final_synth_and_gen_total.copy()"
      ],
      "execution_count": null,
      "outputs": []
    },
    {
      "cell_type": "code",
      "metadata": {
        "id": "0b8Tna7_vfTp"
      },
      "source": [
        "#ignore\n",
        "#lstm.drop([\"stars\"], axis = 1, inplace= True)"
      ],
      "execution_count": null,
      "outputs": []
    },
    {
      "cell_type": "code",
      "metadata": {
        "colab": {
          "base_uri": "https://localhost:8080/",
          "height": 366
        },
        "id": "d2aPSSPvpw8t",
        "outputId": "c3df7c2d-eb7b-4d24-80a0-13e4e82f8a72"
      },
      "source": [
        "#Graphic of reviews\n",
        "sns.countplot(lstm[\"rating\"])\n",
        "plt.xlabel('Label')\n",
        "plt.title('Positive and negative reviews')"
      ],
      "execution_count": null,
      "outputs": [
        {
          "output_type": "stream",
          "text": [
            "/usr/local/lib/python3.6/dist-packages/seaborn/_decorators.py:43: FutureWarning: Pass the following variable as a keyword arg: x. From version 0.12, the only valid positional argument will be `data`, and passing other arguments without an explicit keyword will result in an error or misinterpretation.\n",
            "  FutureWarning\n"
          ],
          "name": "stderr"
        },
        {
          "output_type": "execute_result",
          "data": {
            "text/plain": [
              "Text(0.5, 1.0, 'Positive and negative reviews')"
            ]
          },
          "metadata": {
            "tags": []
          },
          "execution_count": 59
        },
        {
          "output_type": "display_data",
          "data": {
            "image/png": "[encoded data removed]",
            "text/plain": [
              "<Figure size 432x288 with 1 Axes>"
            ]
          },
          "metadata": {
            "tags": [],
            "needs_background": "light"
          }
        }
      ]
    },
    {
      "cell_type": "code",
      "metadata": {
        "colab": {
          "base_uri": "https://localhost:8080/",
          "height": 119
        },
        "id": "PIawVmOoKtBG",
        "outputId": "da466258-0478-4f3f-bd38-780426bdb122"
      },
      "source": [
        "# check for missing values\n",
        "display(capstone_final_synth_and_gen_total.isna().any())\n",
        " \n",
        "# drop any missing values\n",
        "capstone_final_synth_and_gen_total = capstone_final_synth_and_gen_total.dropna()\n",
        " \n",
        "# make sure they've all been removed.\n",
        "capstone_final_synth_and_gen_total.isna().any()"
      ],
      "execution_count": null,
      "outputs": [
        {
          "output_type": "display_data",
          "data": {
            "text/plain": [
              "rating    False\n",
              "text      True \n",
              "dtype: bool"
            ]
          },
          "metadata": {
            "tags": []
          }
        },
        {
          "output_type": "execute_result",
          "data": {
            "text/plain": [
              "rating    False\n",
              "text      False\n",
              "dtype: bool"
            ]
          },
          "metadata": {
            "tags": []
          },
          "execution_count": 60
        }
      ]
    },
    {
      "cell_type": "code",
      "metadata": {
        "id": "4E_Ks-hF65GO"
      },
      "source": [
        "#encoding y in main dataset\n",
        "y = capstone_final_synth_and_gen_total.rating\n",
        "x = capstone_final_synth_and_gen_total.text\n",
        "le = LabelEncoder()\n",
        "y = le.fit_transform(y)\n",
        "y = y.reshape(-1,1)"
      ],
      "execution_count": null,
      "outputs": []
    },
    {
      "cell_type": "code",
      "metadata": {
        "id": "F-iWV21o-RG2"
      },
      "source": [
        "#encoding y in test set\n",
        "lstm_y_test = le.fit_transform(new_y_test)\n",
        "lstm_y_test = lstm_y_test.reshape(-1,1)"
      ],
      "execution_count": null,
      "outputs": []
    },
    {
      "cell_type": "code",
      "metadata": {
        "id": "OYZaWIYBvQD1"
      },
      "source": [
        "x_train,x_test,y_train,y_test = train_test_split(x,y,test_size=0.15)\n"
      ],
      "execution_count": null,
      "outputs": []
    },
    {
      "cell_type": "code",
      "metadata": {
        "colab": {
          "base_uri": "https://localhost:8080/"
        },
        "id": "pPcLdtiDJQxl",
        "outputId": "85f31f09-7f57-454c-adca-e934f13a2e0d"
      },
      "source": [
        "x_train.head(1)"
      ],
      "execution_count": null,
      "outputs": [
        {
          "output_type": "execute_result",
          "data": {
            "text/plain": [
              "11199     Great reviews just moved to calanni's\" 547,\"took my jeep chris up from canyon city, vegas and it had transmission problems. i called jiffy lube and they recommended air filters. air filters were not needed and not cheap so i did not bother. they gave me free estimates for a new filter and said they \n",
              "Name: text, dtype: object"
            ]
          },
          "metadata": {
            "tags": []
          },
          "execution_count": 65
        }
      ]
    },
    {
      "cell_type": "code",
      "metadata": {
        "id": "iw32_T2mxLts"
      },
      "source": [
        "#paramaters\n",
        "max_words = 1000\n",
        "max_len = 150\n",
        "tok = Tokenizer(num_words=max_words)\n",
        "tok.fit_on_texts(x_train)\n"
      ],
      "execution_count": null,
      "outputs": []
    },
    {
      "cell_type": "code",
      "metadata": {
        "id": "vyBBdJN1zfEJ"
      },
      "source": [
        "#Padding\n",
        "x_sequences = tok.texts_to_sequences(x_train)\n",
        "x_sequences_matrix = sequence.pad_sequences(x_sequences,maxlen=max_len)"
      ],
      "execution_count": null,
      "outputs": []
    },
    {
      "cell_type": "code",
      "metadata": {
        "id": "HMEz0TEkyDzB"
      },
      "source": [
        "#Setting RNN\n",
        "def RNN():\n",
        "    inputs = Input(name='inputs',shape=[max_len])\n",
        "    layer = Embedding(max_words,50,input_length=max_len)(inputs)\n",
        "    layer = LSTM(64)(layer)\n",
        "    layer = Dense(256,name='FC1')(layer)\n",
        "    layer = Activation('relu')(layer)\n",
        "    layer = Dropout(0.5)(layer)\n",
        "    layer = Dense(1,name='out_layer')(layer)\n",
        "    layer = Activation('sigmoid')(layer)\n",
        "    model = Model(inputs=inputs,outputs=layer)\n",
        "    return model"
      ],
      "execution_count": null,
      "outputs": []
    },
    {
      "cell_type": "code",
      "metadata": {
        "colab": {
          "base_uri": "https://localhost:8080/"
        },
        "id": "T9Mjrl9pyKCS",
        "outputId": "873da131-c91b-42bc-c0e3-9693f6f6b852"
      },
      "source": [
        "#RNN\n",
        "model = RNN()\n",
        "model.summary()\n",
        "model.compile(loss='binary_crossentropy',optimizer=RMSprop(),metrics=['accuracy'])"
      ],
      "execution_count": null,
      "outputs": [
        {
          "output_type": "stream",
          "text": [
            "Model: \"model_1\"\n",
            "_________________________________________________________________\n",
            "Layer (type)                 Output Shape              Param #   \n",
            "=================================================================\n",
            "inputs (InputLayer)          [(None, 150)]             0         \n",
            "_________________________________________________________________\n",
            "embedding_1 (Embedding)      (None, 150, 50)           50000     \n",
            "_________________________________________________________________\n",
            "lstm_1 (LSTM)                (None, 64)                29440     \n",
            "_________________________________________________________________\n",
            "FC1 (Dense)                  (None, 256)               16640     \n",
            "_________________________________________________________________\n",
            "activation_2 (Activation)    (None, 256)               0         \n",
            "_________________________________________________________________\n",
            "dropout_1 (Dropout)          (None, 256)               0         \n",
            "_________________________________________________________________\n",
            "out_layer (Dense)            (None, 1)                 257       \n",
            "_________________________________________________________________\n",
            "activation_3 (Activation)    (None, 1)                 0         \n",
            "=================================================================\n",
            "Total params: 96,337\n",
            "Trainable params: 96,337\n",
            "Non-trainable params: 0\n",
            "_________________________________________________________________\n"
          ],
          "name": "stdout"
        }
      ]
    },
    {
      "cell_type": "code",
      "metadata": {
        "colab": {
          "base_uri": "https://localhost:8080/"
        },
        "id": "jaKbxmzy6etk",
        "outputId": "ec49580e-5d70-4fee-b982-66d64d5c93a5"
      },
      "source": [
        "#Fitting LSTM Model\n",
        "model.fit(x_sequences_matrix,y_train,batch_size=128,epochs=10,\n",
        "          validation_split=0.2,callbacks=[EarlyStopping(monitor='val_loss',min_delta=0.0001)])"
      ],
      "execution_count": null,
      "outputs": [
        {
          "output_type": "stream",
          "text": [
            "Epoch 1/10\n",
            "71/71 [==============================] - 15s 180ms/step - loss: 0.5958 - accuracy: 0.6647 - val_loss: 0.2025 - val_accuracy: 0.9410\n",
            "Epoch 2/10\n",
            "71/71 [==============================] - 12s 174ms/step - loss: 0.1578 - accuracy: 0.9447 - val_loss: 0.1032 - val_accuracy: 0.9632\n",
            "Epoch 3/10\n",
            "71/71 [==============================] - 12s 175ms/step - loss: 0.0998 - accuracy: 0.9670 - val_loss: 0.1004 - val_accuracy: 0.9623\n",
            "Epoch 4/10\n",
            "71/71 [==============================] - 12s 173ms/step - loss: 0.0882 - accuracy: 0.9663 - val_loss: 0.1085 - val_accuracy: 0.9557\n"
          ],
          "name": "stdout"
        },
        {
          "output_type": "execute_result",
          "data": {
            "text/plain": [
              "<tensorflow.python.keras.callbacks.History at 0x7fc130c7b208>"
            ]
          },
          "metadata": {
            "tags": []
          },
          "execution_count": 70
        }
      ]
    },
    {
      "cell_type": "code",
      "metadata": {
        "id": "-CtA9wL-8iAp"
      },
      "source": [
        "#Sequence Matrixing test set\n",
        "test_sequences = tok.texts_to_sequences(new_x_test)\n",
        "test_sequences_matrix = sequence.pad_sequences(test_sequences,maxlen=max_len)"
      ],
      "execution_count": null,
      "outputs": []
    },
    {
      "cell_type": "code",
      "metadata": {
        "colab": {
          "base_uri": "https://localhost:8080/"
        },
        "id": "MyXhU6_68qDe",
        "outputId": "69f53c92-4697-44ec-cbeb-e08620196eee"
      },
      "source": [
        "#accuracy testing\n",
        "accr = model.evaluate(test_sequences_matrix,lstm_y_test)"
      ],
      "execution_count": null,
      "outputs": [
        {
          "output_type": "stream",
          "text": [
            "4/4 [==============================] - 0s 17ms/step - loss: 0.2100 - accuracy: 0.9316\n"
          ],
          "name": "stdout"
        }
      ]
    },
    {
      "cell_type": "code",
      "metadata": {
        "id": "_r1p8PN9-miG"
      },
      "source": [
        ""
      ],
      "execution_count": null,
      "outputs": []
    }
  ]
}