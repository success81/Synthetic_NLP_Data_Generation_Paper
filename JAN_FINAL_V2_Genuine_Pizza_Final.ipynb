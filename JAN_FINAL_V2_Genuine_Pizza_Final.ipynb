{
  "nbformat": 4,
  "nbformat_minor": 0,
  "metadata": {
    "colab": {
      "name": "JAN-FINAL-V2-Genuine-Pizza-Final.ipynb",
      "provenance": [],
      "collapsed_sections": [],
      "toc_visible": true
    },
    "kernelspec": {
      "name": "python3",
      "display_name": "Python 3"
    }
  },
  "cells": [
    {
      "cell_type": "markdown",
      "metadata": {
        "id": "cT8OmFJJJO_G"
      },
      "source": [
        "# GENUINE FINAL ANALYSIS NOTEBOOK"
      ]
    },
    {
      "cell_type": "code",
      "metadata": {
        "colab": {
          "base_uri": "https://localhost:8080/"
        },
        "id": "L5C7Yj8gEWHO",
        "outputId": "293e506d-af54-46b7-8703-3e3bd52aba69"
      },
      "source": [
        "#my imports\n",
        "import numpy as np\n",
        "import unicodedata\n",
        "import nltk\n",
        "from nltk.tokenize import word_tokenize\n",
        "from nltk.corpus import stopwords\n",
        "from nltk.tokenize import sent_tokenize\n",
        "import string\n",
        "from nltk import pos_tag\n",
        "import pandas as pd\n",
        "from nltk import pos_tag\n",
        "from sklearn.feature_extraction.text import TfidfVectorizer\n",
        "pd.set_option('display.max_colwidth', -1)\n",
        "from sklearn.feature_selection import chi2\n",
        "from sklearn.model_selection import train_test_split\n",
        "from sklearn.feature_extraction.text import CountVectorizer\n",
        "from sklearn.feature_extraction.text import TfidfTransformer\n",
        "from sklearn.naive_bayes import MultinomialNB\n",
        "from sklearn.metrics import accuracy_score, confusion_matrix\n",
        "from sklearn.ensemble import GradientBoostingClassifier\n",
        "from sklearn.ensemble import RandomForestClassifier\n",
        "from sklearn.datasets import make_classification\n",
        "from sklearn.ensemble import ExtraTreesClassifier\n",
        "from sklearn.metrics import f1_score\n",
        "from sklearn.metrics import recall_score\n",
        "import matplotlib.pyplot as plt\n",
        "from sklearn.metrics import precision_score\n",
        "pd.set_option(\"display.max_rows\", None, \"display.max_columns\", None)\n",
        "nltk.download('punkt')\n",
        "nltk.download('stopwords')\n",
        "nltk.download('averaged_perceptron_tagger')\n",
        "import random"
      ],
      "execution_count": 1,
      "outputs": [
        {
          "output_type": "stream",
          "text": [
            "/usr/local/lib/python3.6/dist-packages/ipykernel_launcher.py:13: FutureWarning: Passing a negative integer is deprecated in version 1.0 and will not be supported in future version. Instead, use None to not limit the column width.\n",
            "  del sys.path[0]\n"
          ],
          "name": "stderr"
        },
        {
          "output_type": "stream",
          "text": [
            "[nltk_data] Downloading package punkt to /root/nltk_data...\n",
            "[nltk_data]   Unzipping tokenizers/punkt.zip.\n",
            "[nltk_data] Downloading package stopwords to /root/nltk_data...\n",
            "[nltk_data]   Unzipping corpora/stopwords.zip.\n",
            "[nltk_data] Downloading package averaged_perceptron_tagger to\n",
            "[nltk_data]     /root/nltk_data...\n",
            "[nltk_data]   Unzipping taggers/averaged_perceptron_tagger.zip.\n"
          ],
          "name": "stdout"
        }
      ]
    },
    {
      "cell_type": "code",
      "metadata": {
        "id": "U0alzFjDhqmJ"
      },
      "source": [
        "#Real Testing data\n",
        "low_pizza_full = pd.read_csv(\"https://raw.githubusercontent.com/success81/Synthetic_NLP_Data_Generation_Paper/main/pizza_low_400%20-%20pizza_low_800.csv\")\n",
        "high_pizza_full = pd.read_csv(\"https://raw.githubusercontent.com/success81/Synthetic_NLP_Data_Generation_Paper/main/pizza_high_400%20-%20pizza_high_400.csv\")\n",
        "low_test = low_pizza_full[300:400]\n",
        "high_test = high_pizza_full[300:400]\n",
        "new_test = pd.concat([low_test,high_test], axis=0)\n",
        "new_x_train, new_x_test, new_y_train, new_y_test = train_test_split(new_test['text'], new_test['rating'], random_state = 0, test_size = .99)"
      ],
      "execution_count": 2,
      "outputs": []
    },
    {
      "cell_type": "code",
      "metadata": {
        "id": "qtT5t1EmzgtO"
      },
      "source": [
        "#Dataframes\n",
        "high_gpt = pd.read_csv(\"https://raw.githubusercontent.com/success81/Synthetic_NLP_Data_Generation_Paper/main/positive_gpt.csv\")\n",
        "low_gpt = pd.read_csv(\"https://raw.githubusercontent.com/success81/Synthetic_NLP_Data_Generation_Paper/93eb3de1fe859e1e74d22d14634266bcc8a896f2/negative_gpt.csv\")\n",
        "add_gpt_high = pd.read_csv(\"https://raw.githubusercontent.com/success81/Synthetic_NLP_Data_Generation_Paper/main/mega_high_df\")\n",
        "add_gpt_low = pd.read_csv(\"https://raw.githubusercontent.com/success81/Synthetic_NLP_Data_Generation_Paper/main/mega_low_df\")\n",
        "high_no_gpt = pd.read_csv(\"https://raw.githubusercontent.com/success81/Synthetic_NLP_Data_Generation_Paper/main/high_pizza_no_gpt.csv\")\n",
        "low_no_gpt = pd.read_csv(\"https://raw.githubusercontent.com/success81/Synthetic_NLP_Data_Generation_Paper/main/low_pizza_no_gpt.csv\")"
      ],
      "execution_count": 3,
      "outputs": []
    },
    {
      "cell_type": "code",
      "metadata": {
        "id": "_8Zt4cK-nHIx"
      },
      "source": [
        "#Key Datasets\n",
        "genuine_final = pd.concat([high_no_gpt,low_no_gpt], axis = 0)\n",
        "gpt_only_final = pd.read_csv('https://raw.githubusercontent.com/success81/Synthetic_NLP_Data_Generation_Paper/93eb3de1fe859e1e74d22d14634266bcc8a896f2/total_mega.csv')\n",
        "best_genuine_and_synthetic = pd.concat([genuine_final,gpt_only_final], axis=0, ignore_index=True)"
      ],
      "execution_count": 4,
      "outputs": []
    },
    {
      "cell_type": "code",
      "metadata": {
        "id": "wPJinm09sc6b"
      },
      "source": [
        "genuine_final.to_csv('genuine_final.csv')\n",
        "gpt_only_final.to_csv('gpt_only_final.csv')\n",
        "best_genuine_and_synthetic.to_csv('genuine_and_synthetic.csv')"
      ],
      "execution_count": 33,
      "outputs": []
    },
    {
      "cell_type": "code",
      "metadata": {
        "id": "Ntte9tQY2XN6"
      },
      "source": [
        "#Drop columns\n",
        "genuine_final.drop([\"Unnamed: 0\"], axis = 1, inplace = True)\n",
        "best_genuine_and_synthetic.drop([\"Unnamed: 0\"], axis = 1, inplace = True)\n",
        "gpt_only_final.drop([\"Unnamed: 0\"], axis = 1, inplace = True)"
      ],
      "execution_count": 5,
      "outputs": []
    },
    {
      "cell_type": "code",
      "metadata": {
        "id": "2utfxwedOiJ-"
      },
      "source": [
        "#clear nulls\n",
        "genuine_final = genuine_final.dropna()\n",
        "gpt_only_final = gpt_only_final.dropna()\n",
        "best_genuine_and_synthetic = best_genuine_and_synthetic.dropna()"
      ],
      "execution_count": 6,
      "outputs": []
    },
    {
      "cell_type": "code",
      "metadata": {
        "colab": {
          "base_uri": "https://localhost:8080/"
        },
        "id": "UzszSmB1unso",
        "outputId": "cbbeae15-5572-477a-ca42-c560c0112254"
      },
      "source": [
        "#TEST SET LENGTH\n",
        "len(new_y_test)"
      ],
      "execution_count": 7,
      "outputs": [
        {
          "output_type": "execute_result",
          "data": {
            "text/plain": [
              "198"
            ]
          },
          "metadata": {
            "tags": []
          },
          "execution_count": 7
        }
      ]
    },
    {
      "cell_type": "markdown",
      "metadata": {
        "id": "V6ec15u_xuws"
      },
      "source": [
        "### BAYES"
      ]
    },
    {
      "cell_type": "code",
      "metadata": {
        "id": "YVHkMZUBJ3P1"
      },
      "source": [
        "#Train Test Split\n",
        "X_train, X_test, y_train, y_test = train_test_split(genuine_final['text'], genuine_final['rating'], random_state = 0)\n",
        "count_vect = CountVectorizer()\n",
        "X_train_counts = count_vect.fit_transform(X_train)\n",
        "tfidf_transformer = TfidfTransformer()\n",
        "X_train_tfidf = tfidf_transformer.fit_transform(X_train_counts)\n",
        "clf = MultinomialNB().fit(X_train_tfidf, y_train)"
      ],
      "execution_count": 8,
      "outputs": []
    },
    {
      "cell_type": "code",
      "metadata": {
        "id": "wITMXdiZhxUs"
      },
      "source": [
        "#New Predict\n",
        "naive_bayes_predict = clf.predict(count_vect.transform(new_x_test))"
      ],
      "execution_count": 9,
      "outputs": []
    },
    {
      "cell_type": "code",
      "metadata": {
        "id": "i0pyA7V4LzbM",
        "colab": {
          "base_uri": "https://localhost:8080/"
        },
        "outputId": "dd74cf85-ba23-45ec-8948-3a0b84475395"
      },
      "source": [
        "#Precision Score NO GPT\n",
        "precision_score(new_y_test, naive_bayes_predict, average=\"weighted\")"
      ],
      "execution_count": 10,
      "outputs": [
        {
          "output_type": "execute_result",
          "data": {
            "text/plain": [
              "0.8281092012133467"
            ]
          },
          "metadata": {
            "tags": []
          },
          "execution_count": 10
        }
      ]
    },
    {
      "cell_type": "code",
      "metadata": {
        "id": "_kmWmNBqL5ry",
        "colab": {
          "base_uri": "https://localhost:8080/"
        },
        "outputId": "bd9cd574-fc58-47d2-8dcf-a7983b63fb05"
      },
      "source": [
        "#Recall Score\n",
        "recall_score(new_y_test, naive_bayes_predict, average=\"weighted\")"
      ],
      "execution_count": 11,
      "outputs": [
        {
          "output_type": "execute_result",
          "data": {
            "text/plain": [
              "0.797979797979798"
            ]
          },
          "metadata": {
            "tags": []
          },
          "execution_count": 11
        }
      ]
    },
    {
      "cell_type": "code",
      "metadata": {
        "id": "8f0kXuFqM6aQ",
        "colab": {
          "base_uri": "https://localhost:8080/"
        },
        "outputId": "10c750e0-dc7b-4830-8f6d-4f2cc41308a0"
      },
      "source": [
        "#accuracy_score\n",
        "accuracy_score(new_y_test, naive_bayes_predict)"
      ],
      "execution_count": 12,
      "outputs": [
        {
          "output_type": "execute_result",
          "data": {
            "text/plain": [
              "0.797979797979798"
            ]
          },
          "metadata": {
            "tags": []
          },
          "execution_count": 12
        }
      ]
    },
    {
      "cell_type": "code",
      "metadata": {
        "id": "UPhjS3sFNoY9",
        "colab": {
          "base_uri": "https://localhost:8080/"
        },
        "outputId": "a70fc6fd-bdcc-4f50-93e2-0111b438121b"
      },
      "source": [
        "#F1\n",
        "f1_score(new_y_test, naive_bayes_predict, average=\"weighted\")"
      ],
      "execution_count": 13,
      "outputs": [
        {
          "output_type": "execute_result",
          "data": {
            "text/plain": [
              "0.793233082706767"
            ]
          },
          "metadata": {
            "tags": []
          },
          "execution_count": 13
        }
      ]
    },
    {
      "cell_type": "code",
      "metadata": {
        "id": "11G3UaptNqJF",
        "colab": {
          "base_uri": "https://localhost:8080/"
        },
        "outputId": "500e154a-7e8f-4b2e-83e8-9da3498ad556"
      },
      "source": [
        "#Confusion Matrix\n",
        "cm = confusion_matrix(new_y_test, naive_bayes_predict)\n",
        "print (cm)"
      ],
      "execution_count": 14,
      "outputs": [
        {
          "output_type": "stream",
          "text": [
            "[[94  5]\n",
            " [35 64]]\n"
          ],
          "name": "stdout"
        }
      ]
    },
    {
      "cell_type": "markdown",
      "metadata": {
        "id": "4RMwZ_CNxyAS"
      },
      "source": [
        "### **Random Forest**"
      ]
    },
    {
      "cell_type": "code",
      "metadata": {
        "id": "ibmHN-dAvZB7"
      },
      "source": [
        "gpt_r_clf = RandomForestClassifier(max_depth=6, random_state=0)\n",
        "gpt_r_clf.fit(X_train_tfidf, y_train)\n",
        "gpt_r_predict = gpt_r_clf.predict(count_vect.transform(new_x_test))"
      ],
      "execution_count": 15,
      "outputs": []
    },
    {
      "cell_type": "code",
      "metadata": {
        "id": "rezwlh3Pwqj2",
        "colab": {
          "base_uri": "https://localhost:8080/"
        },
        "outputId": "726cc8c4-8f55-450d-b6d2-edc0f1172baa"
      },
      "source": [
        "accuracy_score(new_y_test, gpt_r_predict)"
      ],
      "execution_count": 16,
      "outputs": [
        {
          "output_type": "execute_result",
          "data": {
            "text/plain": [
              "0.7626262626262627"
            ]
          },
          "metadata": {
            "tags": []
          },
          "execution_count": 16
        }
      ]
    },
    {
      "cell_type": "code",
      "metadata": {
        "id": "gfhKbMdwzJ6s",
        "colab": {
          "base_uri": "https://localhost:8080/"
        },
        "outputId": "07c9d715-755f-4b2b-c5d0-46f46ba3d49e"
      },
      "source": [
        "precision_score(new_y_test, gpt_r_predict, average=\"weighted\")"
      ],
      "execution_count": 17,
      "outputs": [
        {
          "output_type": "execute_result",
          "data": {
            "text/plain": [
              "0.7749999999999999"
            ]
          },
          "metadata": {
            "tags": []
          },
          "execution_count": 17
        }
      ]
    },
    {
      "cell_type": "code",
      "metadata": {
        "id": "akN7a1jRzmkn",
        "colab": {
          "base_uri": "https://localhost:8080/"
        },
        "outputId": "2cdfad09-018f-4c5c-d018-067f0378e4ae"
      },
      "source": [
        "recall_score(new_y_test, gpt_r_predict, average=\"weighted\")"
      ],
      "execution_count": 18,
      "outputs": [
        {
          "output_type": "execute_result",
          "data": {
            "text/plain": [
              "0.7626262626262627"
            ]
          },
          "metadata": {
            "tags": []
          },
          "execution_count": 18
        }
      ]
    },
    {
      "cell_type": "code",
      "metadata": {
        "id": "HTm1M4fl0Z9Y",
        "colab": {
          "base_uri": "https://localhost:8080/"
        },
        "outputId": "3471e669-1183-4e7b-9b2b-6d63215385ca"
      },
      "source": [
        "#F1\n",
        "f1_score(new_y_test, gpt_r_predict, average=\"weighted\")"
      ],
      "execution_count": 19,
      "outputs": [
        {
          "output_type": "execute_result",
          "data": {
            "text/plain": [
              "0.7599257023450199"
            ]
          },
          "metadata": {
            "tags": []
          },
          "execution_count": 19
        }
      ]
    },
    {
      "cell_type": "code",
      "metadata": {
        "id": "woXpcL7D0dtO",
        "colab": {
          "base_uri": "https://localhost:8080/"
        },
        "outputId": "86637c7f-d67e-4558-c40b-52345ef066a7"
      },
      "source": [
        "#Confusion Matrix\n",
        "cm = confusion_matrix(new_y_test, gpt_r_predict)\n",
        "print (cm)"
      ],
      "execution_count": 20,
      "outputs": [
        {
          "output_type": "stream",
          "text": [
            "[[65 34]\n",
            " [13 86]]\n"
          ],
          "name": "stdout"
        }
      ]
    },
    {
      "cell_type": "markdown",
      "metadata": {
        "id": "jFm3vdDDx2Dl"
      },
      "source": [
        "### **Extra trees**"
      ]
    },
    {
      "cell_type": "code",
      "metadata": {
        "id": "uNxiVREEvaYh"
      },
      "source": [
        "#ExtraTreesClassifier\n",
        "extra_clf = ExtraTreesClassifier(bootstrap = True, max_leaf_nodes = 100, n_estimators = 350)\n",
        "extra_clf.fit(X_train_tfidf, y_train)\n",
        "extra_clf_predict = extra_clf.predict(count_vect.transform(new_x_test))"
      ],
      "execution_count": 21,
      "outputs": []
    },
    {
      "cell_type": "code",
      "metadata": {
        "id": "n1F9q1s0yMHt",
        "colab": {
          "base_uri": "https://localhost:8080/"
        },
        "outputId": "8e8d7843-3d29-434e-f649-5dad6da9bfbd"
      },
      "source": [
        "accuracy_score(new_y_test, extra_clf_predict)"
      ],
      "execution_count": 22,
      "outputs": [
        {
          "output_type": "execute_result",
          "data": {
            "text/plain": [
              "0.7878787878787878"
            ]
          },
          "metadata": {
            "tags": []
          },
          "execution_count": 22
        }
      ]
    },
    {
      "cell_type": "code",
      "metadata": {
        "id": "WSEQ0szozB0W",
        "colab": {
          "base_uri": "https://localhost:8080/"
        },
        "outputId": "af3df366-d78c-4741-9ef1-4d4a2de1f606"
      },
      "source": [
        "\n",
        "precision_score(new_y_test, extra_clf_predict, average=\"weighted\")"
      ],
      "execution_count": 23,
      "outputs": [
        {
          "output_type": "execute_result",
          "data": {
            "text/plain": [
              "0.7879963254057365"
            ]
          },
          "metadata": {
            "tags": []
          },
          "execution_count": 23
        }
      ]
    },
    {
      "cell_type": "code",
      "metadata": {
        "id": "7RscRp5R1TQN",
        "colab": {
          "base_uri": "https://localhost:8080/"
        },
        "outputId": "07fda785-34fa-45e2-a817-c4d15068780c"
      },
      "source": [
        "recall_score(new_y_test, extra_clf_predict, average=\"weighted\")"
      ],
      "execution_count": 24,
      "outputs": [
        {
          "output_type": "execute_result",
          "data": {
            "text/plain": [
              "0.7878787878787878"
            ]
          },
          "metadata": {
            "tags": []
          },
          "execution_count": 24
        }
      ]
    },
    {
      "cell_type": "code",
      "metadata": {
        "id": "m9TDjkkR1wQP",
        "colab": {
          "base_uri": "https://localhost:8080/"
        },
        "outputId": "6a18baca-07c8-449b-fb4c-beddb2638e37"
      },
      "source": [
        "f1_score(new_y_test, extra_clf_predict, average=\"weighted\")"
      ],
      "execution_count": 25,
      "outputs": [
        {
          "output_type": "execute_result",
          "data": {
            "text/plain": [
              "0.7878571428571428"
            ]
          },
          "metadata": {
            "tags": []
          },
          "execution_count": 25
        }
      ]
    },
    {
      "cell_type": "code",
      "metadata": {
        "id": "vE62IA6a10-f",
        "colab": {
          "base_uri": "https://localhost:8080/"
        },
        "outputId": "1d50f6bc-a8fc-4211-a11d-cda768a71838"
      },
      "source": [
        "cm = confusion_matrix(new_y_test, gpt_r_predict)\n",
        "print (cm)"
      ],
      "execution_count": 26,
      "outputs": [
        {
          "output_type": "stream",
          "text": [
            "[[65 34]\n",
            " [13 86]]\n"
          ],
          "name": "stdout"
        }
      ]
    },
    {
      "cell_type": "markdown",
      "metadata": {
        "id": "We4qVfSgx5mP"
      },
      "source": [
        "### **Gradient Boosting**\n"
      ]
    },
    {
      "cell_type": "code",
      "metadata": {
        "id": "EZkhKwW9wQE2"
      },
      "source": [
        "g_clf = GradientBoostingClassifier(random_state=0, learning_rate=1, max_depth=15, min_samples_leaf = 100)\n",
        "g_clf.fit(X_train_tfidf, y_train)\n",
        "g_clf_predict = g_clf.predict(count_vect.transform(new_x_test))"
      ],
      "execution_count": 27,
      "outputs": []
    },
    {
      "cell_type": "code",
      "metadata": {
        "id": "RBVuZbZUyUIL",
        "colab": {
          "base_uri": "https://localhost:8080/"
        },
        "outputId": "d4206fbf-8155-464a-8ed9-e1a0b52b4b60"
      },
      "source": [
        "accuracy_score(new_y_test, g_clf_predict)"
      ],
      "execution_count": 28,
      "outputs": [
        {
          "output_type": "execute_result",
          "data": {
            "text/plain": [
              "0.5959595959595959"
            ]
          },
          "metadata": {
            "tags": []
          },
          "execution_count": 28
        }
      ]
    },
    {
      "cell_type": "code",
      "metadata": {
        "id": "tY0b3F5Y2C8S",
        "colab": {
          "base_uri": "https://localhost:8080/"
        },
        "outputId": "ee8d4388-53a0-482c-8be5-f1d9372b53de"
      },
      "source": [
        "precision_score(new_y_test, g_clf_predict, average=\"weighted\")"
      ],
      "execution_count": 29,
      "outputs": [
        {
          "output_type": "execute_result",
          "data": {
            "text/plain": [
              "0.597917751171265"
            ]
          },
          "metadata": {
            "tags": []
          },
          "execution_count": 29
        }
      ]
    },
    {
      "cell_type": "code",
      "metadata": {
        "id": "qwgR0aa_2DGe",
        "colab": {
          "base_uri": "https://localhost:8080/"
        },
        "outputId": "1a6fcd4a-056a-4ba6-a1c1-d37855f1e52e"
      },
      "source": [
        "recall_score(new_y_test, g_clf_predict, average=\"weighted\")"
      ],
      "execution_count": 30,
      "outputs": [
        {
          "output_type": "execute_result",
          "data": {
            "text/plain": [
              "0.5959595959595959"
            ]
          },
          "metadata": {
            "tags": []
          },
          "execution_count": 30
        }
      ]
    },
    {
      "cell_type": "code",
      "metadata": {
        "id": "kWLe08Sj2DTf",
        "colab": {
          "base_uri": "https://localhost:8080/"
        },
        "outputId": "3db886b1-74d1-4dc5-8e2b-8cd8a2fe43c3"
      },
      "source": [
        "f1_score(new_y_test, g_clf_predict, average=\"weighted\")"
      ],
      "execution_count": 31,
      "outputs": [
        {
          "output_type": "execute_result",
          "data": {
            "text/plain": [
              "0.5939294503691551"
            ]
          },
          "metadata": {
            "tags": []
          },
          "execution_count": 31
        }
      ]
    },
    {
      "cell_type": "code",
      "metadata": {
        "id": "Hfq3rs1S2uZj",
        "colab": {
          "base_uri": "https://localhost:8080/"
        },
        "outputId": "9c7edc63-d4df-4e4b-893b-6248c628f22e"
      },
      "source": [
        "cm = confusion_matrix(new_y_test, gpt_r_predict)\n",
        "print (cm)"
      ],
      "execution_count": 32,
      "outputs": [
        {
          "output_type": "stream",
          "text": [
            "[[65 34]\n",
            " [13 86]]\n"
          ],
          "name": "stdout"
        }
      ]
    }
  ]
}