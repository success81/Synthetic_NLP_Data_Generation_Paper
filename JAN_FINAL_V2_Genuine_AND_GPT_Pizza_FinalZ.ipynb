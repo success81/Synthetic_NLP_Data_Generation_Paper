{
  "nbformat": 4,
  "nbformat_minor": 0,
  "metadata": {
    "colab": {
      "name": "JAN-FINAL-V2-Genuine-AND-GPT-Pizza-FinalZ.ipynb",
      "provenance": [],
      "collapsed_sections": [],
      "toc_visible": true
    },
    "kernelspec": {
      "name": "python3",
      "display_name": "Python 3"
    }
  },
  "cells": [
    {
      "cell_type": "markdown",
      "metadata": {
        "id": "cT8OmFJJJO_G"
      },
      "source": [
        "# SYNTHETIC AND GENUINE FINAL ANALYSIS NOTEBOOK"
      ]
    },
    {
      "cell_type": "code",
      "metadata": {
        "colab": {
          "base_uri": "https://localhost:8080/"
        },
        "id": "L5C7Yj8gEWHO",
        "outputId": "8e485e4f-5a32-4125-e246-cbbc08bcde2a"
      },
      "source": [
        "#my imports\n",
        "import numpy as np\n",
        "import unicodedata\n",
        "import nltk\n",
        "from nltk.tokenize import word_tokenize\n",
        "from nltk.corpus import stopwords\n",
        "from nltk.tokenize import sent_tokenize\n",
        "import string\n",
        "from nltk import pos_tag\n",
        "import pandas as pd\n",
        "from nltk import pos_tag\n",
        "from sklearn.feature_extraction.text import TfidfVectorizer\n",
        "pd.set_option('display.max_colwidth', -1)\n",
        "from sklearn.feature_selection import chi2\n",
        "from sklearn.model_selection import train_test_split\n",
        "from sklearn.feature_extraction.text import CountVectorizer\n",
        "from sklearn.feature_extraction.text import TfidfTransformer\n",
        "from sklearn.naive_bayes import MultinomialNB\n",
        "from sklearn.metrics import accuracy_score, confusion_matrix\n",
        "from sklearn.ensemble import GradientBoostingClassifier\n",
        "from sklearn.ensemble import RandomForestClassifier\n",
        "from sklearn.datasets import make_classification\n",
        "from sklearn.ensemble import ExtraTreesClassifier\n",
        "from sklearn.metrics import f1_score\n",
        "from sklearn.metrics import recall_score\n",
        "import matplotlib.pyplot as plt\n",
        "from sklearn.metrics import precision_score\n",
        "pd.set_option(\"display.max_rows\", None, \"display.max_columns\", None)\n",
        "nltk.download('punkt')\n",
        "nltk.download('stopwords')\n",
        "nltk.download('averaged_perceptron_tagger')\n",
        "import random"
      ],
      "execution_count": null,
      "outputs": [
        {
          "output_type": "stream",
          "text": [
            "[nltk_data] Downloading package punkt to /root/nltk_data...\n",
            "[nltk_data]   Package punkt is already up-to-date!\n",
            "[nltk_data] Downloading package stopwords to /root/nltk_data...\n",
            "[nltk_data]   Package stopwords is already up-to-date!\n",
            "[nltk_data] Downloading package averaged_perceptron_tagger to\n",
            "[nltk_data]     /root/nltk_data...\n",
            "[nltk_data]   Package averaged_perceptron_tagger is already up-to-\n",
            "[nltk_data]       date!\n"
          ],
          "name": "stdout"
        },
        {
          "output_type": "stream",
          "text": [
            "/usr/local/lib/python3.6/dist-packages/ipykernel_launcher.py:13: FutureWarning: Passing a negative integer is deprecated in version 1.0 and will not be supported in future version. Instead, use None to not limit the column width.\n",
            "  del sys.path[0]\n"
          ],
          "name": "stderr"
        }
      ]
    },
    {
      "cell_type": "code",
      "metadata": {
        "id": "U0alzFjDhqmJ"
      },
      "source": [
        "#Real Testing data\n",
        "low_pizza_full = pd.read_csv(\"https://raw.githubusercontent.com/success81/Synthetic_NLP_Data_Generation_Paper/main/pizza_low_400%20-%20pizza_low_800.csv\")\n",
        "high_pizza_full = pd.read_csv(\"https://raw.githubusercontent.com/success81/Synthetic_NLP_Data_Generation_Paper/main/pizza_high_400%20-%20pizza_high_400.csv\")\n",
        "low_test = low_pizza_full[300:400]\n",
        "high_test = high_pizza_full[300:400]\n",
        "new_test = pd.concat([low_test,high_test], axis=0)\n",
        "new_x_train, new_x_test, new_y_train, new_y_test = train_test_split(new_test['text'], new_test['rating'], random_state = 0, test_size = .99)"
      ],
      "execution_count": null,
      "outputs": []
    },
    {
      "cell_type": "code",
      "metadata": {
        "id": "D3RLT6--Kqis"
      },
      "source": [
        ""
      ],
      "execution_count": null,
      "outputs": []
    },
    {
      "cell_type": "code",
      "metadata": {
        "colab": {
          "base_uri": "https://localhost:8080/"
        },
        "id": "IXSXFBOQ2lRk",
        "outputId": "e4a7fc07-da55-4bb9-e32c-6d0624e5c4f8"
      },
      "source": [
        "len(new_y_test)"
      ],
      "execution_count": null,
      "outputs": [
        {
          "output_type": "execute_result",
          "data": {
            "text/plain": [
              "198"
            ]
          },
          "metadata": {
            "tags": []
          },
          "execution_count": 9
        }
      ]
    },
    {
      "cell_type": "code",
      "metadata": {
        "id": "qtT5t1EmzgtO"
      },
      "source": [
        "#Dataframes\n",
        "high_gpt = pd.read_csv(\"https://raw.githubusercontent.com/success81/Synthetic_NLP_Data_Generation_Paper/main/positive_gpt.csv\")\n",
        "low_gpt = pd.read_csv(\"https://raw.githubusercontent.com/success81/Synthetic_NLP_Data_Generation_Paper/93eb3de1fe859e1e74d22d14634266bcc8a896f2/negative_gpt.csv\")\n",
        "add_gpt_high = pd.read_csv(\"https://raw.githubusercontent.com/success81/Synthetic_NLP_Data_Generation_Paper/main/mega_high_df\")\n",
        "add_gpt_low = pd.read_csv(\"https://raw.githubusercontent.com/success81/Synthetic_NLP_Data_Generation_Paper/main/mega_low_df\")\n",
        "high_no_gpt = pd.read_csv(\"https://raw.githubusercontent.com/success81/Synthetic_NLP_Data_Generation_Paper/main/high_pizza_no_gpt.csv\")\n",
        "low_no_gpt = pd.read_csv(\"https://raw.githubusercontent.com/success81/Synthetic_NLP_Data_Generation_Paper/main/low_pizza_no_gpt.csv\")"
      ],
      "execution_count": null,
      "outputs": []
    },
    {
      "cell_type": "code",
      "metadata": {
        "id": "_8Zt4cK-nHIx"
      },
      "source": [
        "#Key Datasets\n",
        "genuine_final = pd.concat([high_no_gpt,low_no_gpt], axis = 0)\n",
        "gpt_only_final = pd.read_csv('https://raw.githubusercontent.com/success81/Synthetic_NLP_Data_Generation_Paper/93eb3de1fe859e1e74d22d14634266bcc8a896f2/total_mega.csv')\n",
        "best_genuine_and_synthetic = pd.concat([genuine_final,gpt_only_final], axis=0, ignore_index=True)"
      ],
      "execution_count": null,
      "outputs": []
    },
    {
      "cell_type": "code",
      "metadata": {
        "colab": {
          "base_uri": "https://localhost:8080/"
        },
        "id": "4wfkQ6O0YG6h",
        "outputId": "3daf89e3-5dac-4bcd-a6ca-c139beb235c9"
      },
      "source": [
        "best_genuine_and_synthetic.info()"
      ],
      "execution_count": null,
      "outputs": [
        {
          "output_type": "stream",
          "text": [
            "<class 'pandas.core.frame.DataFrame'>\n",
            "RangeIndex: 11389 entries, 0 to 11388\n",
            "Data columns (total 4 columns):\n",
            " #   Column      Non-Null Count  Dtype \n",
            "---  ------      --------------  ----- \n",
            " 0   Unnamed: 0  11389 non-null  int64 \n",
            " 1   stars       11389 non-null  int64 \n",
            " 2   rating      11389 non-null  object\n",
            " 3   text        11380 non-null  object\n",
            "dtypes: int64(2), object(2)\n",
            "memory usage: 356.0+ KB\n"
          ],
          "name": "stdout"
        }
      ]
    },
    {
      "cell_type": "code",
      "metadata": {
        "id": "Ntte9tQY2XN6"
      },
      "source": [
        "#Drop columns\n",
        "gpt_only_final.drop([\"Unnamed: 0\"], axis = 1, inplace = True)\n",
        "best_genuine_and_synthetic.drop([\"Unnamed: 0\"], axis = 1, inplace = True)\n",
        "genuine_final.drop([\"Unnamed: 0\"], axis = 1, inplace = True)"
      ],
      "execution_count": null,
      "outputs": []
    },
    {
      "cell_type": "code",
      "metadata": {
        "id": "2utfxwedOiJ-"
      },
      "source": [
        "#clear nulls\n",
        "genuine_final = genuine_final.dropna()\n",
        "gpt_only_final = gpt_only_final.dropna()\n",
        "best_genuine_and_synthetic = best_genuine_and_synthetic.dropna()"
      ],
      "execution_count": null,
      "outputs": []
    },
    {
      "cell_type": "code",
      "metadata": {
        "colab": {
          "base_uri": "https://localhost:8080/"
        },
        "id": "aQf8zlSDi_FE",
        "outputId": "4f78d9b4-011b-4e2c-9379-f261fa625b14"
      },
      "source": [
        "gpt_only_final.info()"
      ],
      "execution_count": null,
      "outputs": [
        {
          "output_type": "stream",
          "text": [
            "<class 'pandas.core.frame.DataFrame'>\n",
            "Int64Index: 10930 entries, 1 to 10938\n",
            "Data columns (total 3 columns):\n",
            " #   Column  Non-Null Count  Dtype \n",
            "---  ------  --------------  ----- \n",
            " 0   stars   10930 non-null  int64 \n",
            " 1   rating  10930 non-null  object\n",
            " 2   text    10930 non-null  object\n",
            "dtypes: int64(1), object(2)\n",
            "memory usage: 341.6+ KB\n"
          ],
          "name": "stdout"
        }
      ]
    },
    {
      "cell_type": "code",
      "metadata": {
        "colab": {
          "base_uri": "https://localhost:8080/"
        },
        "id": "ksEb4onDjCwe",
        "outputId": "6346884b-52e6-458d-c5e0-808e9a1d39c5"
      },
      "source": [
        "best_genuine_and_synthetic.info()"
      ],
      "execution_count": null,
      "outputs": [
        {
          "output_type": "stream",
          "text": [
            "<class 'pandas.core.frame.DataFrame'>\n",
            "Int64Index: 11380 entries, 0 to 11388\n",
            "Data columns (total 3 columns):\n",
            " #   Column  Non-Null Count  Dtype \n",
            "---  ------  --------------  ----- \n",
            " 0   stars   11380 non-null  int64 \n",
            " 1   rating  11380 non-null  object\n",
            " 2   text    11380 non-null  object\n",
            "dtypes: int64(1), object(2)\n",
            "memory usage: 355.6+ KB\n"
          ],
          "name": "stdout"
        }
      ]
    },
    {
      "cell_type": "code",
      "metadata": {
        "colab": {
          "base_uri": "https://localhost:8080/"
        },
        "id": "UzszSmB1unso",
        "outputId": "e4844229-2603-4f24-e939-6c16f8bb600a"
      },
      "source": [
        "#TEST SET LENGTH\n",
        "len(new_y_test)"
      ],
      "execution_count": null,
      "outputs": [
        {
          "output_type": "execute_result",
          "data": {
            "text/plain": [
              "198"
            ]
          },
          "metadata": {
            "tags": []
          },
          "execution_count": 17
        }
      ]
    },
    {
      "cell_type": "markdown",
      "metadata": {
        "id": "V6ec15u_xuws"
      },
      "source": [
        "### **Bayes Model Testing**"
      ]
    },
    {
      "cell_type": "code",
      "metadata": {
        "id": "YVHkMZUBJ3P1"
      },
      "source": [
        "#This is the Training of the Genuine and Synthetic Naive Bayes Model For Pizza Reviews\n",
        "X_train, X_test, y_train, y_test = train_test_split(best_genuine_and_synthetic['text'], best_genuine_and_synthetic['rating'], random_state = 0)\n",
        "count_vect = CountVectorizer()\n",
        "X_train_counts = count_vect.fit_transform(X_train)\n",
        "tfidf_transformer = TfidfTransformer()\n",
        "X_train_tfidf = tfidf_transformer.fit_transform(X_train_counts)\n",
        "clf = MultinomialNB().fit(X_train_tfidf, y_train)"
      ],
      "execution_count": null,
      "outputs": []
    },
    {
      "cell_type": "code",
      "metadata": {
        "id": "wITMXdiZhxUs"
      },
      "source": [
        "#New Predict\n",
        "naive_bayes_predict = clf.predict(count_vect.transform(new_x_test))"
      ],
      "execution_count": null,
      "outputs": []
    },
    {
      "cell_type": "code",
      "metadata": {
        "id": "i0pyA7V4LzbM",
        "colab": {
          "base_uri": "https://localhost:8080/"
        },
        "outputId": "59371d78-8efb-4681-fb83-721509e32560"
      },
      "source": [
        "#Precision Score NO GPT\n",
        "precision_score(new_y_test, naive_bayes_predict, average=\"weighted\")"
      ],
      "execution_count": null,
      "outputs": [
        {
          "output_type": "execute_result",
          "data": {
            "text/plain": [
              "0.8913461538461538"
            ]
          },
          "metadata": {
            "tags": []
          },
          "execution_count": 20
        }
      ]
    },
    {
      "cell_type": "code",
      "metadata": {
        "id": "_kmWmNBqL5ry",
        "colab": {
          "base_uri": "https://localhost:8080/"
        },
        "outputId": "3669e4d7-5c96-429f-f67d-4b45afd47bfd"
      },
      "source": [
        "#Recall Score\n",
        "recall_score(new_y_test, naive_bayes_predict, average=\"weighted\")"
      ],
      "execution_count": null,
      "outputs": [
        {
          "output_type": "execute_result",
          "data": {
            "text/plain": [
              "0.8737373737373737"
            ]
          },
          "metadata": {
            "tags": []
          },
          "execution_count": 21
        }
      ]
    },
    {
      "cell_type": "code",
      "metadata": {
        "id": "8f0kXuFqM6aQ",
        "colab": {
          "base_uri": "https://localhost:8080/"
        },
        "outputId": "34168551-4771-48a6-c89d-d4ad7dcf0d28"
      },
      "source": [
        "#accuracy_score\n",
        "accuracy_score(new_y_test, naive_bayes_predict)"
      ],
      "execution_count": null,
      "outputs": [
        {
          "output_type": "execute_result",
          "data": {
            "text/plain": [
              "0.8737373737373737"
            ]
          },
          "metadata": {
            "tags": []
          },
          "execution_count": 22
        }
      ]
    },
    {
      "cell_type": "code",
      "metadata": {
        "id": "UPhjS3sFNoY9",
        "colab": {
          "base_uri": "https://localhost:8080/"
        },
        "outputId": "f0cb1dbe-4dbb-4f65-9762-3c9134f73321"
      },
      "source": [
        "#F1\n",
        "f1_score(new_y_test, naive_bayes_predict, average=\"weighted\")"
      ],
      "execution_count": null,
      "outputs": [
        {
          "output_type": "execute_result",
          "data": {
            "text/plain": [
              "0.8723009055026699"
            ]
          },
          "metadata": {
            "tags": []
          },
          "execution_count": 23
        }
      ]
    },
    {
      "cell_type": "code",
      "metadata": {
        "id": "11G3UaptNqJF",
        "colab": {
          "base_uri": "https://localhost:8080/"
        },
        "outputId": "affc018a-62ea-4e90-d1c9-d0e1f7bb0437"
      },
      "source": [
        "#Confusion Matrix\n",
        "cm = confusion_matrix(new_y_test, naive_bayes_predict)\n",
        "print (cm)"
      ],
      "execution_count": null,
      "outputs": [
        {
          "output_type": "stream",
          "text": [
            "[[76 23]\n",
            " [ 2 97]]\n"
          ],
          "name": "stdout"
        }
      ]
    },
    {
      "cell_type": "markdown",
      "metadata": {
        "id": "4RMwZ_CNxyAS"
      },
      "source": [
        "### **Random Forest**"
      ]
    },
    {
      "cell_type": "code",
      "metadata": {
        "id": "ibmHN-dAvZB7"
      },
      "source": [
        "gpt_r_clf = RandomForestClassifier(max_depth=6, random_state=0)\n",
        "gpt_r_clf.fit(X_train_tfidf, y_train)\n",
        "gpt_r_predict = gpt_r_clf.predict(count_vect.transform(new_x_test))"
      ],
      "execution_count": null,
      "outputs": []
    },
    {
      "cell_type": "code",
      "metadata": {
        "id": "rezwlh3Pwqj2",
        "colab": {
          "base_uri": "https://localhost:8080/"
        },
        "outputId": "003d269d-5084-45de-f8ef-8148f68555bb"
      },
      "source": [
        "accuracy_score(new_y_test, gpt_r_predict)"
      ],
      "execution_count": null,
      "outputs": [
        {
          "output_type": "execute_result",
          "data": {
            "text/plain": [
              "0.7121212121212122"
            ]
          },
          "metadata": {
            "tags": []
          },
          "execution_count": 26
        }
      ]
    },
    {
      "cell_type": "code",
      "metadata": {
        "id": "gfhKbMdwzJ6s",
        "colab": {
          "base_uri": "https://localhost:8080/"
        },
        "outputId": "cd509bcd-66fc-4715-e185-631387b96447"
      },
      "source": [
        "precision_score(new_y_test, gpt_r_predict, average=\"weighted\")"
      ],
      "execution_count": null,
      "outputs": [
        {
          "output_type": "execute_result",
          "data": {
            "text/plain": [
              "0.7887500000000001"
            ]
          },
          "metadata": {
            "tags": []
          },
          "execution_count": 27
        }
      ]
    },
    {
      "cell_type": "code",
      "metadata": {
        "id": "akN7a1jRzmkn",
        "colab": {
          "base_uri": "https://localhost:8080/"
        },
        "outputId": "6385ac82-71cf-444c-b88e-8d3ddce689aa"
      },
      "source": [
        "recall_score(new_y_test, gpt_r_predict, average=\"weighted\")"
      ],
      "execution_count": null,
      "outputs": [
        {
          "output_type": "execute_result",
          "data": {
            "text/plain": [
              "0.7121212121212122"
            ]
          },
          "metadata": {
            "tags": []
          },
          "execution_count": 28
        }
      ]
    },
    {
      "cell_type": "code",
      "metadata": {
        "id": "HTm1M4fl0Z9Y",
        "colab": {
          "base_uri": "https://localhost:8080/"
        },
        "outputId": "b13aec61-9601-4905-e248-b0e9e39a4992"
      },
      "source": [
        "#F1\n",
        "f1_score(new_y_test, gpt_r_predict, average=\"weighted\")"
      ],
      "execution_count": null,
      "outputs": [
        {
          "output_type": "execute_result",
          "data": {
            "text/plain": [
              "0.6916646176542907"
            ]
          },
          "metadata": {
            "tags": []
          },
          "execution_count": 29
        }
      ]
    },
    {
      "cell_type": "code",
      "metadata": {
        "id": "woXpcL7D0dtO",
        "colab": {
          "base_uri": "https://localhost:8080/"
        },
        "outputId": "c0df2574-5208-4f12-ec09-4ae8c78b2fff"
      },
      "source": [
        "#Confusion Matrix\n",
        "cm = confusion_matrix(new_y_test, gpt_r_predict)\n",
        "print (cm)"
      ],
      "execution_count": null,
      "outputs": [
        {
          "output_type": "stream",
          "text": [
            "[[45 54]\n",
            " [ 3 96]]\n"
          ],
          "name": "stdout"
        }
      ]
    },
    {
      "cell_type": "markdown",
      "metadata": {
        "id": "jFm3vdDDx2Dl"
      },
      "source": [
        "### **Extra trees**"
      ]
    },
    {
      "cell_type": "code",
      "metadata": {
        "id": "uNxiVREEvaYh"
      },
      "source": [
        "#ExtraTreesClassifier\n",
        "extra_clf = ExtraTreesClassifier(bootstrap = True, max_leaf_nodes = 100, n_estimators = 350)\n",
        "extra_clf.fit(X_train_tfidf, y_train)\n",
        "extra_clf_predict = extra_clf.predict(count_vect.transform(new_x_test))"
      ],
      "execution_count": null,
      "outputs": []
    },
    {
      "cell_type": "code",
      "metadata": {
        "id": "n1F9q1s0yMHt",
        "colab": {
          "base_uri": "https://localhost:8080/"
        },
        "outputId": "b117f6b1-6ab4-4151-d9e2-5f900227a70e"
      },
      "source": [
        "accuracy_score(new_y_test, extra_clf_predict)"
      ],
      "execution_count": null,
      "outputs": [
        {
          "output_type": "execute_result",
          "data": {
            "text/plain": [
              "0.8080808080808081"
            ]
          },
          "metadata": {
            "tags": []
          },
          "execution_count": 32
        }
      ]
    },
    {
      "cell_type": "code",
      "metadata": {
        "id": "WSEQ0szozB0W",
        "colab": {
          "base_uri": "https://localhost:8080/"
        },
        "outputId": "2f4aec59-9c17-4478-c7b3-ceadcef0669b"
      },
      "source": [
        "\n",
        "precision_score(new_y_test, extra_clf_predict, average=\"weighted\")"
      ],
      "execution_count": null,
      "outputs": [
        {
          "output_type": "execute_result",
          "data": {
            "text/plain": [
              "0.8440241540389655"
            ]
          },
          "metadata": {
            "tags": []
          },
          "execution_count": 33
        }
      ]
    },
    {
      "cell_type": "code",
      "metadata": {
        "id": "7RscRp5R1TQN",
        "colab": {
          "base_uri": "https://localhost:8080/"
        },
        "outputId": "f9c4a108-c53b-4980-9c73-cfd713d7db0b"
      },
      "source": [
        "recall_score(new_y_test, extra_clf_predict, average=\"weighted\")"
      ],
      "execution_count": null,
      "outputs": [
        {
          "output_type": "execute_result",
          "data": {
            "text/plain": [
              "0.8080808080808081"
            ]
          },
          "metadata": {
            "tags": []
          },
          "execution_count": 34
        }
      ]
    },
    {
      "cell_type": "code",
      "metadata": {
        "id": "m9TDjkkR1wQP",
        "colab": {
          "base_uri": "https://localhost:8080/"
        },
        "outputId": "8dfdda2a-afdf-4ed3-938b-6f511fdf067a"
      },
      "source": [
        "f1_score(new_y_test, extra_clf_predict, average=\"weighted\")"
      ],
      "execution_count": null,
      "outputs": [
        {
          "output_type": "execute_result",
          "data": {
            "text/plain": [
              "0.8029334730225249"
            ]
          },
          "metadata": {
            "tags": []
          },
          "execution_count": 35
        }
      ]
    },
    {
      "cell_type": "code",
      "metadata": {
        "id": "vE62IA6a10-f",
        "colab": {
          "base_uri": "https://localhost:8080/"
        },
        "outputId": "4675546d-d81f-4ea7-e649-ed4d05f9f748"
      },
      "source": [
        "cm = confusion_matrix(new_y_test, gpt_r_predict)\n",
        "print (cm)"
      ],
      "execution_count": null,
      "outputs": [
        {
          "output_type": "stream",
          "text": [
            "[[45 54]\n",
            " [ 3 96]]\n"
          ],
          "name": "stdout"
        }
      ]
    },
    {
      "cell_type": "markdown",
      "metadata": {
        "id": "We4qVfSgx5mP"
      },
      "source": [
        "### **Gradient Boosting**\n"
      ]
    },
    {
      "cell_type": "code",
      "metadata": {
        "id": "EZkhKwW9wQE2"
      },
      "source": [
        "g_clf = GradientBoostingClassifier(random_state=0, learning_rate=1, max_depth=15, min_samples_leaf = 100)\n",
        "g_clf.fit(X_train_tfidf, y_train)\n",
        "g_clf_predict = g_clf.predict(count_vect.transform(new_x_test))"
      ],
      "execution_count": null,
      "outputs": []
    },
    {
      "cell_type": "code",
      "metadata": {
        "id": "RBVuZbZUyUIL"
      },
      "source": [
        "accuracy_score(new_y_test, g_clf_predict)"
      ],
      "execution_count": null,
      "outputs": []
    },
    {
      "cell_type": "code",
      "metadata": {
        "id": "tY0b3F5Y2C8S"
      },
      "source": [
        "precision_score(new_y_test, g_clf_predict, average=\"weighted\")"
      ],
      "execution_count": null,
      "outputs": []
    },
    {
      "cell_type": "code",
      "metadata": {
        "id": "qwgR0aa_2DGe"
      },
      "source": [
        "recall_score(new_y_test, g_clf_predict, average=\"weighted\")"
      ],
      "execution_count": null,
      "outputs": []
    },
    {
      "cell_type": "code",
      "metadata": {
        "id": "kWLe08Sj2DTf"
      },
      "source": [
        "f1_score(new_y_test, g_clf_predict, average=\"weighted\")"
      ],
      "execution_count": null,
      "outputs": []
    },
    {
      "cell_type": "code",
      "metadata": {
        "id": "Hfq3rs1S2uZj"
      },
      "source": [
        "cm = confusion_matrix(new_y_test, gpt_r_predict)\n",
        "print (cm)"
      ],
      "execution_count": null,
      "outputs": []
    }
  ]
}