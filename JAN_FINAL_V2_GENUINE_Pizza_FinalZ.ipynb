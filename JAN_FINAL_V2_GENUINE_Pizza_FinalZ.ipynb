{
  "nbformat": 4,
  "nbformat_minor": 0,
  "metadata": {
    "colab": {
      "name": "JAN-FINAL-V2-GENUINE-Pizza-FinalZ.ipynb",
      "provenance": [],
      "collapsed_sections": [],
      "toc_visible": true
    },
    "kernelspec": {
      "name": "python3",
      "display_name": "Python 3"
    }
  },
  "cells": [
    {
      "cell_type": "markdown",
      "metadata": {
        "id": "cT8OmFJJJO_G"
      },
      "source": [
        "### GENUINE NOTEBOOK"
      ]
    },
    {
      "cell_type": "code",
      "metadata": {
        "colab": {
          "base_uri": "https://localhost:8080/"
        },
        "id": "L5C7Yj8gEWHO",
        "outputId": "44d9e408-2891-4f8f-d31f-408c375a5e92"
      },
      "source": [
        "#my imports\n",
        "import numpy as np\n",
        "import unicodedata\n",
        "import nltk\n",
        "from nltk.tokenize import word_tokenize\n",
        "from nltk.corpus import stopwords\n",
        "from nltk.tokenize import sent_tokenize\n",
        "import string\n",
        "from nltk import pos_tag\n",
        "import pandas as pd\n",
        "from nltk import pos_tag\n",
        "from sklearn.feature_extraction.text import TfidfVectorizer\n",
        "pd.set_option('display.max_colwidth', -1)\n",
        "from sklearn.feature_selection import chi2\n",
        "from sklearn.model_selection import train_test_split\n",
        "from sklearn.feature_extraction.text import CountVectorizer\n",
        "from sklearn.feature_extraction.text import TfidfTransformer\n",
        "from sklearn.naive_bayes import MultinomialNB\n",
        "from sklearn.metrics import accuracy_score, confusion_matrix\n",
        "from sklearn.ensemble import GradientBoostingClassifier\n",
        "from sklearn.ensemble import RandomForestClassifier\n",
        "from sklearn.datasets import make_classification\n",
        "from sklearn.ensemble import ExtraTreesClassifier\n",
        "from sklearn.metrics import f1_score\n",
        "from sklearn.metrics import recall_score\n",
        "import matplotlib.pyplot as plt\n",
        "from sklearn.metrics import precision_score\n",
        "pd.set_option(\"display.max_rows\", None, \"display.max_columns\", None)\n",
        "nltk.download('punkt')\n",
        "nltk.download('stopwords')\n",
        "nltk.download('averaged_perceptron_tagger')\n",
        "import random"
      ],
      "execution_count": 1,
      "outputs": [
        {
          "output_type": "stream",
          "text": [
            "/usr/local/lib/python3.6/dist-packages/ipykernel_launcher.py:13: FutureWarning: Passing a negative integer is deprecated in version 1.0 and will not be supported in future version. Instead, use None to not limit the column width.\n",
            "  del sys.path[0]\n"
          ],
          "name": "stderr"
        },
        {
          "output_type": "stream",
          "text": [
            "[nltk_data] Downloading package punkt to /root/nltk_data...\n",
            "[nltk_data]   Unzipping tokenizers/punkt.zip.\n",
            "[nltk_data] Downloading package stopwords to /root/nltk_data...\n",
            "[nltk_data]   Unzipping corpora/stopwords.zip.\n",
            "[nltk_data] Downloading package averaged_perceptron_tagger to\n",
            "[nltk_data]     /root/nltk_data...\n",
            "[nltk_data]   Unzipping taggers/averaged_perceptron_tagger.zip.\n"
          ],
          "name": "stdout"
        }
      ]
    },
    {
      "cell_type": "code",
      "metadata": {
        "id": "U0alzFjDhqmJ"
      },
      "source": [
        "#Real Testing data\n",
        "low_pizza_full = pd.read_csv(\"https://raw.githubusercontent.com/success81/Synthetic_NLP_Data_Generation_Paper/main/pizza_low_400%20-%20pizza_low_800.csv\")\n",
        "high_pizza_full = pd.read_csv(\"https://raw.githubusercontent.com/success81/Synthetic_NLP_Data_Generation_Paper/main/pizza_high_400%20-%20pizza_high_400.csv\")\n",
        "low_test = low_pizza_full[300:400]\n",
        "high_test = high_pizza_full[300:400]\n",
        "new_test = pd.concat([low_test,high_test], axis=0)\n",
        "new_x_train, new_x_test, new_y_train, new_y_test = train_test_split(new_test['text'], new_test['rating'], random_state = 0, test_size = .99)"
      ],
      "execution_count": 2,
      "outputs": []
    },
    {
      "cell_type": "code",
      "metadata": {
        "id": "qtT5t1EmzgtO"
      },
      "source": [
        "#Dataframes\n",
        "high_gpt = pd.read_csv(\"https://raw.githubusercontent.com/success81/Synthetic_NLP_Data_Generation_Paper/main/positive_gpt.csv\")\n",
        "low_gpt = pd.read_csv(\"https://raw.githubusercontent.com/success81/Synthetic_NLP_Data_Generation_Paper/93eb3de1fe859e1e74d22d14634266bcc8a896f2/negative_gpt.csv\")\n",
        "add_gpt_high = pd.read_csv(\"https://raw.githubusercontent.com/success81/Synthetic_NLP_Data_Generation_Paper/main/mega_high_df\")\n",
        "add_gpt_low = pd.read_csv(\"https://raw.githubusercontent.com/success81/Synthetic_NLP_Data_Generation_Paper/main/mega_low_df\")\n",
        "high_no_gpt = pd.read_csv(\"https://raw.githubusercontent.com/success81/Synthetic_NLP_Data_Generation_Paper/main/high_pizza_no_gpt.csv\")\n",
        "low_no_gpt = pd.read_csv(\"https://raw.githubusercontent.com/success81/Synthetic_NLP_Data_Generation_Paper/main/low_pizza_no_gpt.csv\")"
      ],
      "execution_count": 3,
      "outputs": []
    },
    {
      "cell_type": "code",
      "metadata": {
        "id": "_8Zt4cK-nHIx"
      },
      "source": [
        "#Key Datasets\n",
        "genuine_final = pd.concat([high_no_gpt,low_no_gpt], axis = 0)\n",
        "gpt_only_final = pd.read_csv('https://raw.githubusercontent.com/success81/Synthetic_NLP_Data_Generation_Paper/93eb3de1fe859e1e74d22d14634266bcc8a896f2/total_mega.csv')\n",
        "best_genuine_and_synthetic = pd.concat([genuine_final,gpt_only_final], axis=0, ignore_index=True)"
      ],
      "execution_count": 4,
      "outputs": []
    },
    {
      "cell_type": "code",
      "metadata": {
        "id": "2utfxwedOiJ-"
      },
      "source": [
        "#clear nulls\n",
        "genuine_final = genuine_final.dropna()\n",
        "gpt_only_final = gpt_only_final.dropna()\n",
        "best_genuine_and_synthetic = best_genuine_and_synthetic.dropna()"
      ],
      "execution_count": 5,
      "outputs": []
    },
    {
      "cell_type": "code",
      "metadata": {
        "id": "d1jFpAjoTf1j"
      },
      "source": [
        "#Drop columns\n",
        "genuine_final.drop([\"Unnamed: 0\"], axis = 1, inplace = True)\n",
        "best_genuine_and_synthetic.drop([\"Unnamed: 0\"], axis = 1, inplace = True)\n",
        "gpt_only_final.drop([\"Unnamed: 0\"], axis = 1, inplace = True)"
      ],
      "execution_count": 6,
      "outputs": []
    },
    {
      "cell_type": "code",
      "metadata": {
        "colab": {
          "base_uri": "https://localhost:8080/"
        },
        "id": "9IgrEQ0gSD7z",
        "outputId": "fdb1b580-9fa3-4696-9f81-08505c215543"
      },
      "source": [
        "best_genuine_and_synthetic.info()"
      ],
      "execution_count": 7,
      "outputs": [
        {
          "output_type": "stream",
          "text": [
            "<class 'pandas.core.frame.DataFrame'>\n",
            "Int64Index: 11380 entries, 0 to 11388\n",
            "Data columns (total 3 columns):\n",
            " #   Column  Non-Null Count  Dtype \n",
            "---  ------  --------------  ----- \n",
            " 0   stars   11380 non-null  int64 \n",
            " 1   rating  11380 non-null  object\n",
            " 2   text    11380 non-null  object\n",
            "dtypes: int64(1), object(2)\n",
            "memory usage: 355.6+ KB\n"
          ],
          "name": "stdout"
        }
      ]
    },
    {
      "cell_type": "code",
      "metadata": {
        "colab": {
          "base_uri": "https://localhost:8080/"
        },
        "id": "fO8Qv6_5SWCr",
        "outputId": "226d9d37-40ee-418e-96bb-60e909e3a4ba"
      },
      "source": [
        "gpt_only_final.info()"
      ],
      "execution_count": 8,
      "outputs": [
        {
          "output_type": "stream",
          "text": [
            "<class 'pandas.core.frame.DataFrame'>\n",
            "Int64Index: 10930 entries, 1 to 10938\n",
            "Data columns (total 3 columns):\n",
            " #   Column  Non-Null Count  Dtype \n",
            "---  ------  --------------  ----- \n",
            " 0   stars   10930 non-null  int64 \n",
            " 1   rating  10930 non-null  object\n",
            " 2   text    10930 non-null  object\n",
            "dtypes: int64(1), object(2)\n",
            "memory usage: 341.6+ KB\n"
          ],
          "name": "stdout"
        }
      ]
    },
    {
      "cell_type": "code",
      "metadata": {
        "colab": {
          "base_uri": "https://localhost:8080/"
        },
        "id": "MYF0P3SxTSrl",
        "outputId": "36e153e2-9d45-4960-f6bf-f4e7a49e426f"
      },
      "source": [
        "genuine_final.info()"
      ],
      "execution_count": 9,
      "outputs": [
        {
          "output_type": "stream",
          "text": [
            "<class 'pandas.core.frame.DataFrame'>\n",
            "Int64Index: 450 entries, 0 to 224\n",
            "Data columns (total 3 columns):\n",
            " #   Column  Non-Null Count  Dtype \n",
            "---  ------  --------------  ----- \n",
            " 0   stars   450 non-null    int64 \n",
            " 1   rating  450 non-null    object\n",
            " 2   text    450 non-null    object\n",
            "dtypes: int64(1), object(2)\n",
            "memory usage: 14.1+ KB\n"
          ],
          "name": "stdout"
        }
      ]
    },
    {
      "cell_type": "code",
      "metadata": {
        "colab": {
          "base_uri": "https://localhost:8080/"
        },
        "id": "UzszSmB1unso",
        "outputId": "eb919d6f-04eb-4c5f-e06d-1f5b4735b875"
      },
      "source": [
        "#TEST SET LENGTH\n",
        "len(new_y_test)"
      ],
      "execution_count": 10,
      "outputs": [
        {
          "output_type": "execute_result",
          "data": {
            "text/plain": [
              "198"
            ]
          },
          "metadata": {
            "tags": []
          },
          "execution_count": 10
        }
      ]
    },
    {
      "cell_type": "markdown",
      "metadata": {
        "id": "B1Ez-rRs1VtK"
      },
      "source": [
        "### **Bayes Model Building**"
      ]
    },
    {
      "cell_type": "code",
      "metadata": {
        "id": "YVHkMZUBJ3P1"
      },
      "source": [
        "#This is the Training of the Genuine Naive Bayes Model For Car Reviews\n",
        "X_train, X_test, y_train, y_test = train_test_split(genuine_final['text'], genuine_final['rating'], random_state = 0)\n",
        "count_vect = CountVectorizer()\n",
        "X_train_counts = count_vect.fit_transform(X_train)\n",
        "tfidf_transformer = TfidfTransformer()\n",
        "X_train_tfidf = tfidf_transformer.fit_transform(X_train_counts)\n",
        "clf = MultinomialNB().fit(X_train_tfidf, y_train)"
      ],
      "execution_count": 36,
      "outputs": []
    },
    {
      "cell_type": "code",
      "metadata": {
        "id": "wITMXdiZhxUs"
      },
      "source": [
        "#New Predict\n",
        "naive_bayes_predict = clf.predict(count_vect.transform(new_x_test))"
      ],
      "execution_count": 37,
      "outputs": []
    },
    {
      "cell_type": "code",
      "metadata": {
        "id": "i0pyA7V4LzbM",
        "colab": {
          "base_uri": "https://localhost:8080/"
        },
        "outputId": "c8b6c8a3-a856-409a-c5da-0459fc3d0d4d"
      },
      "source": [
        "#Precision Score NO GPT\n",
        "precision_score(new_y_test, naive_bayes_predict, average=\"weighted\")"
      ],
      "execution_count": 38,
      "outputs": [
        {
          "output_type": "execute_result",
          "data": {
            "text/plain": [
              "0.8281092012133467"
            ]
          },
          "metadata": {
            "tags": []
          },
          "execution_count": 38
        }
      ]
    },
    {
      "cell_type": "code",
      "metadata": {
        "id": "_kmWmNBqL5ry",
        "colab": {
          "base_uri": "https://localhost:8080/"
        },
        "outputId": "2f257a31-c031-4450-b303-daf9a3c7ea8e"
      },
      "source": [
        "#Recall Score\n",
        "recall_score(new_y_test, naive_bayes_predict, average=\"weighted\")"
      ],
      "execution_count": 39,
      "outputs": [
        {
          "output_type": "execute_result",
          "data": {
            "text/plain": [
              "0.797979797979798"
            ]
          },
          "metadata": {
            "tags": []
          },
          "execution_count": 39
        }
      ]
    },
    {
      "cell_type": "code",
      "metadata": {
        "id": "8f0kXuFqM6aQ",
        "colab": {
          "base_uri": "https://localhost:8080/"
        },
        "outputId": "c57de500-8eaf-4af8-d20d-8069d24655bc"
      },
      "source": [
        "#accuracy_score\n",
        "accuracy_score(new_y_test, naive_bayes_predict)"
      ],
      "execution_count": 40,
      "outputs": [
        {
          "output_type": "execute_result",
          "data": {
            "text/plain": [
              "0.797979797979798"
            ]
          },
          "metadata": {
            "tags": []
          },
          "execution_count": 40
        }
      ]
    },
    {
      "cell_type": "code",
      "metadata": {
        "id": "UPhjS3sFNoY9",
        "colab": {
          "base_uri": "https://localhost:8080/"
        },
        "outputId": "edb0adcd-38d4-455f-8d12-5091ab8a7ec7"
      },
      "source": [
        "#F1\n",
        "f1_score(new_y_test, naive_bayes_predict, average=\"weighted\")"
      ],
      "execution_count": 41,
      "outputs": [
        {
          "output_type": "execute_result",
          "data": {
            "text/plain": [
              "0.793233082706767"
            ]
          },
          "metadata": {
            "tags": []
          },
          "execution_count": 41
        }
      ]
    },
    {
      "cell_type": "code",
      "metadata": {
        "id": "11G3UaptNqJF",
        "colab": {
          "base_uri": "https://localhost:8080/"
        },
        "outputId": "535635e6-d358-4414-c52c-067f33f97f3c"
      },
      "source": [
        "#Confusion Matrix\n",
        "cm = confusion_matrix(new_y_test, naive_bayes_predict)\n",
        "print (cm)"
      ],
      "execution_count": 43,
      "outputs": [
        {
          "output_type": "stream",
          "text": [
            "[[94  5]\n",
            " [35 64]]\n"
          ],
          "name": "stdout"
        }
      ]
    },
    {
      "cell_type": "markdown",
      "metadata": {
        "id": "4RMwZ_CNxyAS"
      },
      "source": [
        "### **Random Forest**"
      ]
    },
    {
      "cell_type": "code",
      "metadata": {
        "id": "ibmHN-dAvZB7"
      },
      "source": [
        "gpt_r_clf = RandomForestClassifier(max_depth=6, random_state=0)\n",
        "gpt_r_clf.fit(X_train_tfidf, y_train)\n",
        "gpt_r_predict = gpt_r_clf.predict(count_vect.transform(new_x_test))"
      ],
      "execution_count": 18,
      "outputs": []
    },
    {
      "cell_type": "code",
      "metadata": {
        "id": "rezwlh3Pwqj2",
        "colab": {
          "base_uri": "https://localhost:8080/"
        },
        "outputId": "374dc3ca-034d-4386-87ae-2ae18dbc0ce9"
      },
      "source": [
        "accuracy_score(new_y_test, gpt_r_predict)"
      ],
      "execution_count": 19,
      "outputs": [
        {
          "output_type": "execute_result",
          "data": {
            "text/plain": [
              "0.7121212121212122"
            ]
          },
          "metadata": {
            "tags": []
          },
          "execution_count": 19
        }
      ]
    },
    {
      "cell_type": "code",
      "metadata": {
        "id": "gfhKbMdwzJ6s",
        "colab": {
          "base_uri": "https://localhost:8080/"
        },
        "outputId": "0edd765c-0e43-4a78-e996-bd9eb0ea86d0"
      },
      "source": [
        "precision_score(new_y_test, gpt_r_predict, average=\"weighted\")"
      ],
      "execution_count": 20,
      "outputs": [
        {
          "output_type": "execute_result",
          "data": {
            "text/plain": [
              "0.7424207089552239"
            ]
          },
          "metadata": {
            "tags": []
          },
          "execution_count": 20
        }
      ]
    },
    {
      "cell_type": "code",
      "metadata": {
        "id": "akN7a1jRzmkn",
        "colab": {
          "base_uri": "https://localhost:8080/"
        },
        "outputId": "9d31606d-8600-45b3-b599-b7d075b979b6"
      },
      "source": [
        "recall_score(new_y_test, gpt_r_predict, average=\"weighted\")"
      ],
      "execution_count": 21,
      "outputs": [
        {
          "output_type": "execute_result",
          "data": {
            "text/plain": [
              "0.7121212121212122"
            ]
          },
          "metadata": {
            "tags": []
          },
          "execution_count": 21
        }
      ]
    },
    {
      "cell_type": "code",
      "metadata": {
        "id": "HTm1M4fl0Z9Y",
        "colab": {
          "base_uri": "https://localhost:8080/"
        },
        "outputId": "c93badc7-f674-4bbe-9255-011dafa5165f"
      },
      "source": [
        "#F1\n",
        "f1_score(new_y_test, gpt_r_predict, average=\"weighted\")"
      ],
      "execution_count": 22,
      "outputs": [
        {
          "output_type": "execute_result",
          "data": {
            "text/plain": [
              "0.7028357776666051"
            ]
          },
          "metadata": {
            "tags": []
          },
          "execution_count": 22
        }
      ]
    },
    {
      "cell_type": "code",
      "metadata": {
        "id": "woXpcL7D0dtO",
        "colab": {
          "base_uri": "https://localhost:8080/"
        },
        "outputId": "5815cd28-2c99-4f6d-eb18-242471d88cba"
      },
      "source": [
        "#Confusion Matrix\n",
        "cm = confusion_matrix(new_y_test, gpt_r_predict)\n",
        "print (cm)"
      ],
      "execution_count": 23,
      "outputs": [
        {
          "output_type": "stream",
          "text": [
            "[[53 46]\n",
            " [11 88]]\n"
          ],
          "name": "stdout"
        }
      ]
    },
    {
      "cell_type": "markdown",
      "metadata": {
        "id": "jFm3vdDDx2Dl"
      },
      "source": [
        "### **Extra trees**"
      ]
    },
    {
      "cell_type": "code",
      "metadata": {
        "id": "uNxiVREEvaYh"
      },
      "source": [
        "#ExtraTreesClassifier\n",
        "extra_clf = ExtraTreesClassifier(bootstrap = True, max_leaf_nodes = 100, n_estimators = 350)\n",
        "extra_clf.fit(X_train_tfidf, y_train)\n",
        "extra_clf_predict = extra_clf.predict(count_vect.transform(new_x_test))"
      ],
      "execution_count": 24,
      "outputs": []
    },
    {
      "cell_type": "code",
      "metadata": {
        "id": "n1F9q1s0yMHt",
        "colab": {
          "base_uri": "https://localhost:8080/"
        },
        "outputId": "b51c8990-f021-4f88-a9f6-2839d1c45a86"
      },
      "source": [
        "accuracy_score(new_y_test, extra_clf_predict)"
      ],
      "execution_count": 25,
      "outputs": [
        {
          "output_type": "execute_result",
          "data": {
            "text/plain": [
              "0.7929292929292929"
            ]
          },
          "metadata": {
            "tags": []
          },
          "execution_count": 25
        }
      ]
    },
    {
      "cell_type": "code",
      "metadata": {
        "id": "WSEQ0szozB0W",
        "colab": {
          "base_uri": "https://localhost:8080/"
        },
        "outputId": "1d430a6f-f271-43cc-ace4-fb57d1d6899e"
      },
      "source": [
        "\n",
        "precision_score(new_y_test, extra_clf_predict, average=\"weighted\")"
      ],
      "execution_count": 26,
      "outputs": [
        {
          "output_type": "execute_result",
          "data": {
            "text/plain": [
              "0.8067307692307693"
            ]
          },
          "metadata": {
            "tags": []
          },
          "execution_count": 26
        }
      ]
    },
    {
      "cell_type": "code",
      "metadata": {
        "id": "7RscRp5R1TQN",
        "colab": {
          "base_uri": "https://localhost:8080/"
        },
        "outputId": "bc36e987-e37b-49c6-8c29-9bdd394f0f1b"
      },
      "source": [
        "recall_score(new_y_test, extra_clf_predict, average=\"weighted\")"
      ],
      "execution_count": 27,
      "outputs": [
        {
          "output_type": "execute_result",
          "data": {
            "text/plain": [
              "0.7929292929292929"
            ]
          },
          "metadata": {
            "tags": []
          },
          "execution_count": 27
        }
      ]
    },
    {
      "cell_type": "code",
      "metadata": {
        "id": "m9TDjkkR1wQP",
        "colab": {
          "base_uri": "https://localhost:8080/"
        },
        "outputId": "b0a8e230-89b9-4594-8aa7-52899cfc8c88"
      },
      "source": [
        "f1_score(new_y_test, extra_clf_predict, average=\"weighted\")"
      ],
      "execution_count": 28,
      "outputs": [
        {
          "output_type": "execute_result",
          "data": {
            "text/plain": [
              "0.790573485024379"
            ]
          },
          "metadata": {
            "tags": []
          },
          "execution_count": 28
        }
      ]
    },
    {
      "cell_type": "code",
      "metadata": {
        "id": "vE62IA6a10-f",
        "colab": {
          "base_uri": "https://localhost:8080/"
        },
        "outputId": "2c6eea72-483c-4028-f5b6-0e274117ff08"
      },
      "source": [
        "cm = confusion_matrix(new_y_test, gpt_r_predict)\n",
        "print (cm)"
      ],
      "execution_count": 29,
      "outputs": [
        {
          "output_type": "stream",
          "text": [
            "[[53 46]\n",
            " [11 88]]\n"
          ],
          "name": "stdout"
        }
      ]
    },
    {
      "cell_type": "markdown",
      "metadata": {
        "id": "We4qVfSgx5mP"
      },
      "source": [
        "### **Gradient Boosting**\n"
      ]
    },
    {
      "cell_type": "code",
      "metadata": {
        "id": "EZkhKwW9wQE2"
      },
      "source": [
        "g_clf = GradientBoostingClassifier(random_state=0, learning_rate=1, max_depth=15, min_samples_leaf = 100)\n",
        "g_clf.fit(X_train_tfidf, y_train)\n",
        "g_clf_predict = g_clf.predict(count_vect.transform(new_x_test))"
      ],
      "execution_count": 30,
      "outputs": []
    },
    {
      "cell_type": "code",
      "metadata": {
        "id": "RBVuZbZUyUIL",
        "colab": {
          "base_uri": "https://localhost:8080/"
        },
        "outputId": "538d14cf-9d1b-41dd-bb30-81bc8dccb000"
      },
      "source": [
        "accuracy_score(new_y_test, g_clf_predict)"
      ],
      "execution_count": 31,
      "outputs": [
        {
          "output_type": "execute_result",
          "data": {
            "text/plain": [
              "0.803030303030303"
            ]
          },
          "metadata": {
            "tags": []
          },
          "execution_count": 31
        }
      ]
    },
    {
      "cell_type": "code",
      "metadata": {
        "id": "tY0b3F5Y2C8S",
        "colab": {
          "base_uri": "https://localhost:8080/"
        },
        "outputId": "c11d6569-a823-48fc-93bd-d64267afff42"
      },
      "source": [
        "precision_score(new_y_test, g_clf_predict, average=\"weighted\")"
      ],
      "execution_count": 32,
      "outputs": [
        {
          "output_type": "execute_result",
          "data": {
            "text/plain": [
              "0.8409090909090909"
            ]
          },
          "metadata": {
            "tags": []
          },
          "execution_count": 32
        }
      ]
    },
    {
      "cell_type": "code",
      "metadata": {
        "id": "qwgR0aa_2DGe",
        "colab": {
          "base_uri": "https://localhost:8080/"
        },
        "outputId": "07849c81-1713-404b-bc57-7ae0628b1e5d"
      },
      "source": [
        "recall_score(new_y_test, g_clf_predict, average=\"weighted\")"
      ],
      "execution_count": 33,
      "outputs": [
        {
          "output_type": "execute_result",
          "data": {
            "text/plain": [
              "0.803030303030303"
            ]
          },
          "metadata": {
            "tags": []
          },
          "execution_count": 33
        }
      ]
    },
    {
      "cell_type": "code",
      "metadata": {
        "id": "kWLe08Sj2DTf",
        "colab": {
          "base_uri": "https://localhost:8080/"
        },
        "outputId": "d6ab3582-c8a1-4194-c53b-600fa1432be3"
      },
      "source": [
        "f1_score(new_y_test, g_clf_predict, average=\"weighted\")"
      ],
      "execution_count": 34,
      "outputs": [
        {
          "output_type": "execute_result",
          "data": {
            "text/plain": [
              "0.7974025974025974"
            ]
          },
          "metadata": {
            "tags": []
          },
          "execution_count": 34
        }
      ]
    },
    {
      "cell_type": "code",
      "metadata": {
        "id": "Hfq3rs1S2uZj",
        "colab": {
          "base_uri": "https://localhost:8080/"
        },
        "outputId": "aa8680cd-6c36-4775-f2db-8ba215c886c7"
      },
      "source": [
        "cm = confusion_matrix(new_y_test, gpt_r_predict)\n",
        "print (cm)"
      ],
      "execution_count": 35,
      "outputs": [
        {
          "output_type": "stream",
          "text": [
            "[[53 46]\n",
            " [11 88]]\n"
          ],
          "name": "stdout"
        }
      ]
    }
  ]
}